{
 "cells": [
  {
   "cell_type": "markdown",
   "metadata": {},
   "source": [
    "## License \n",
    "\n",
    "Copyright 2019 Patrick Hall and the H2O.ai team\n",
    "\n",
    "Licensed under the Apache License, Version 2.0 (the \"License\");\n",
    "you may not use this file except in compliance with the License.\n",
    "You may obtain a copy of the License at\n",
    "\n",
    "    http://www.apache.org/licenses/LICENSE-2.0\n",
    "\n",
    "Unless required by applicable law or agreed to in writing, software\n",
    "distributed under the License is distributed on an \"AS IS\" BASIS,\n",
    "WITHOUT WARRANTIES OR CONDITIONS OF ANY KIND, either express or implied.\n",
    "See the License for the specific language governing permissions and\n",
    "limitations under the License."
   ]
  },
  {
   "cell_type": "markdown",
   "metadata": {},
   "source": [
    "**DISCLAIMER:** This notebook is not legal compliance advice."
   ]
  },
  {
   "cell_type": "markdown",
   "metadata": {},
   "source": [
    "# Increase Fairness in Your Machine Learning Project with Disparate Impact Analysis using Python and H2O\n",
    "\n",
    "#### Assess if your machine learning model is treating different groups of people similarly or differently\n",
    "\n",
    "Fairness is an incredibly important, but highly complex entity. So much so that leading scholars have yet to agree on a strict definition. However, there is a practical way to discuss and handle *observational* fairness, or how your model predictions affect different groups of people. This procedure is known as disparate impact analysis (DIA). DIA is far from perfect, as it relies heavily on user-defined thresholds and reference levels for disparity and does not attempt to remediate disparity or provide information on sources of disparity, but it is a fairly straightforward method to quantify your model’s behavior across sensitive demographic segments or other potentially interesting groups of observations. DIA is also an accepted, regulation-compliant tool for fair-lending purposes in the U.S. financial services industry. If it’s good enough for multibillion-dollar credit portfolios, it’s probably good enough for your project. \n",
    "\n",
    "This example DIA notebook starts by training a gradient boosting machine (GBM) classifier on the UCI credit card default data using the popular open source library, h2o. A probability cutoff for making credit decisions is selected by maximizing the F1 statistic and confusion matrices are generated to summarize the GBM’s decisions across customers with different education levels. A basic DIA procedure is then conducted using the information stored in the confusion matrices. \n",
    "\n",
    "For an excellent and free reference on the topics of fairness and machine learning be sure to follow the book being written by Solon Barocas, Moritz Hardt and Arvind Narayanan: https://fairmlbook.org/. \n",
    "\n",
    "For Python fairness libraries that go far beyond the scope of this notebook see: \n",
    "* aequitas: https://github.com/dssg/aequitas\n",
    "* AI Fairness 360: http://aif360.mybluemix.net/\n",
    "* Themis: https://github.com/LASER-UMASS/Themis"
   ]
  },
  {
   "cell_type": "markdown",
   "metadata": {},
   "source": [
    "#### Python imports\n",
    "In general, NumPy and Pandas will be used for data manipulation purposes and h2o will be used for modeling tasks. "
   ]
  },
  {
   "cell_type": "code",
   "execution_count": 1,
   "metadata": {
    "collapsed": true
   },
   "outputs": [],
   "source": [
    "# imports\n",
    "\n",
    "# h2o Python API with specific classes\n",
    "import h2o                                        \n",
    "from h2o.estimators.gbm import H2OGradientBoostingEstimator       # for GBM\n",
    "\n",
    "import numpy as np   # array, vector, matrix calculations\n",
    "import pandas as pd  # DataFrame handling\n",
    "\n",
    "# display plots in-notebook\n",
    "%matplotlib inline   "
   ]
  },
  {
   "cell_type": "markdown",
   "metadata": {},
   "source": [
    "#### Start h2o\n",
    "H2o is both a library and a server. The machine learning algorithms in the library take advantage of the multithreaded and distributed architecture provided by the server to train machine learning algorithms extremely efficiently. The API for the library was imported above in cell 1, but the server still needs to be started."
   ]
  },
  {
   "cell_type": "code",
   "execution_count": 2,
   "metadata": {
    "collapsed": false
   },
   "outputs": [
    {
     "name": "stdout",
     "output_type": "stream",
     "text": [
      "Checking whether there is an H2O instance running at http://localhost:54321..... not found.\n",
      "Attempting to start a local H2O server...\n",
      "  Java Version: java version \"1.8.0_112\"; Java(TM) SE Runtime Environment (build 1.8.0_112-b16); Java HotSpot(TM) 64-Bit Server VM (build 25.112-b16, mixed mode)\n",
      "  Starting server from /Users/phall/anaconda/lib/python3.5/site-packages/h2o/backend/bin/h2o.jar\n",
      "  Ice root: /var/folders/tc/0ss1l73113j3wdyjsxmy1j2r0000gn/T/tmpx7dyibr0\n",
      "  JVM stdout: /var/folders/tc/0ss1l73113j3wdyjsxmy1j2r0000gn/T/tmpx7dyibr0/h2o_phall_started_from_python.out\n",
      "  JVM stderr: /var/folders/tc/0ss1l73113j3wdyjsxmy1j2r0000gn/T/tmpx7dyibr0/h2o_phall_started_from_python.err\n",
      "  Server is running at http://127.0.0.1:54321\n",
      "Connecting to H2O server at http://127.0.0.1:54321... successful.\n",
      "Warning: Your H2O cluster version is too old (4 months and 4 days)! Please download and install the latest version from http://h2o.ai/download/\n"
     ]
    },
    {
     "data": {
      "text/html": [
       "<div style=\"overflow:auto\"><table style=\"width:50%\"><tr><td>H2O cluster uptime:</td>\n",
       "<td>02 secs</td></tr>\n",
       "<tr><td>H2O cluster timezone:</td>\n",
       "<td>America/New_York</td></tr>\n",
       "<tr><td>H2O data parsing timezone:</td>\n",
       "<td>UTC</td></tr>\n",
       "<tr><td>H2O cluster version:</td>\n",
       "<td>3.22.1.1</td></tr>\n",
       "<tr><td>H2O cluster version age:</td>\n",
       "<td>4 months and 4 days !!!</td></tr>\n",
       "<tr><td>H2O cluster name:</td>\n",
       "<td>H2O_from_python_phall_gsnjkn</td></tr>\n",
       "<tr><td>H2O cluster total nodes:</td>\n",
       "<td>1</td></tr>\n",
       "<tr><td>H2O cluster free memory:</td>\n",
       "<td>1.778 Gb</td></tr>\n",
       "<tr><td>H2O cluster total cores:</td>\n",
       "<td>8</td></tr>\n",
       "<tr><td>H2O cluster allowed cores:</td>\n",
       "<td>8</td></tr>\n",
       "<tr><td>H2O cluster status:</td>\n",
       "<td>accepting new members, healthy</td></tr>\n",
       "<tr><td>H2O connection url:</td>\n",
       "<td>http://127.0.0.1:54321</td></tr>\n",
       "<tr><td>H2O connection proxy:</td>\n",
       "<td>None</td></tr>\n",
       "<tr><td>H2O internal security:</td>\n",
       "<td>False</td></tr>\n",
       "<tr><td>H2O API Extensions:</td>\n",
       "<td>XGBoost, Algos, AutoML, Core V3, Core V4</td></tr>\n",
       "<tr><td>Python version:</td>\n",
       "<td>3.5.2 final</td></tr></table></div>"
      ],
      "text/plain": [
       "--------------------------  ----------------------------------------\n",
       "H2O cluster uptime:         02 secs\n",
       "H2O cluster timezone:       America/New_York\n",
       "H2O data parsing timezone:  UTC\n",
       "H2O cluster version:        3.22.1.1\n",
       "H2O cluster version age:    4 months and 4 days !!!\n",
       "H2O cluster name:           H2O_from_python_phall_gsnjkn\n",
       "H2O cluster total nodes:    1\n",
       "H2O cluster free memory:    1.778 Gb\n",
       "H2O cluster total cores:    8\n",
       "H2O cluster allowed cores:  8\n",
       "H2O cluster status:         accepting new members, healthy\n",
       "H2O connection url:         http://127.0.0.1:54321\n",
       "H2O connection proxy:\n",
       "H2O internal security:      False\n",
       "H2O API Extensions:         XGBoost, Algos, AutoML, Core V3, Core V4\n",
       "Python version:             3.5.2 final\n",
       "--------------------------  ----------------------------------------"
      ]
     },
     "metadata": {},
     "output_type": "display_data"
    }
   ],
   "source": [
    "h2o.init(max_mem_size='2G')       # start h2o\n",
    "h2o.remove_all()                  # remove any existing data structures from h2o memory"
   ]
  },
  {
   "cell_type": "markdown",
   "metadata": {},
   "source": [
    "## 1. Download, explore, and prepare UCI credit card default data\n",
    "\n",
    "UCI credit card default data: https://archive.ics.uci.edu/ml/datasets/default+of+credit+card+clients\n",
    "\n",
    "The UCI credit card default data contains demographic and payment information about credit card customers in Taiwan in the year 2005. The data set contains 23 input variables: \n",
    "\n",
    "* **`LIMIT_BAL`**: Amount of given credit (NT dollar)\n",
    "* **`SEX`**: 1 = male; 2 = female\n",
    "* **`EDUCATION`**: 1 = graduate school; 2 = university; 3 = high school; 4 = others \n",
    "* **`MARRIAGE`**: 1 = married; 2 = single; 3 = others\n",
    "* **`AGE`**: Age in years \n",
    "* **`PAY_0`, `PAY_2` - `PAY_6`**: History of past payment; `PAY_0` = the repayment status in September, 2005; `PAY_2` = the repayment status in August, 2005; ...; `PAY_6` = the repayment status in April, 2005. The measurement scale for the repayment status is: -1 = pay duly; 1 = payment delay for one month; 2 = payment delay for two months; ...; 8 = payment delay for eight months; 9 = payment delay for nine months and above. \n",
    "* **`BILL_AMT1` - `BILL_AMT6`**: Amount of bill statement (NT dollar). `BILL_AMNT1` = amount of bill statement in September, 2005; `BILL_AMT2` = amount of bill statement in August, 2005; ...; `BILL_AMT6` = amount of bill statement in April, 2005. \n",
    "* **`PAY_AMT1` - `PAY_AMT6`**: Amount of previous payment (NT dollar). `PAY_AMT1` = amount paid in September, 2005; `PAY_AMT2` = amount paid in August, 2005; ...; `PAY_AMT6` = amount paid in April, 2005. \n",
    "\n",
    "These 23 input variables are used to predict the target variable, whether or not a customer defaulted on their credit card bill in late 2005.\n",
    "\n",
    "Because h2o accepts both numeric and character inputs, some variables will be recoded into more transparent character values."
   ]
  },
  {
   "cell_type": "markdown",
   "metadata": {},
   "source": [
    "#### Import data and clean\n",
    "The credit card default data is available as an `.xls` file. Pandas reads `.xls` files automatically, so it's used to load the credit card default data and give the prediction target a shorter name: `DEFAULT_NEXT_MONTH`."
   ]
  },
  {
   "cell_type": "code",
   "execution_count": 3,
   "metadata": {
    "collapsed": true
   },
   "outputs": [],
   "source": [
    "# import XLS file\n",
    "path = 'default_of_credit_card_clients.xls'\n",
    "data = pd.read_excel(path,\n",
    "                     skiprows=1)\n",
    "\n",
    "# remove spaces from target column name \n",
    "data = data.rename(columns={'default payment next month': 'DEFAULT_NEXT_MONTH'}) "
   ]
  },
  {
   "cell_type": "markdown",
   "metadata": {},
   "source": [
    "#### Assign modeling roles\n",
    "The shorthand name `y` is assigned to the prediction target. `X` is assigned to all other input variables in the credit card default data except the row indentifier, `ID`."
   ]
  },
  {
   "cell_type": "code",
   "execution_count": 4,
   "metadata": {
    "collapsed": false
   },
   "outputs": [
    {
     "name": "stdout",
     "output_type": "stream",
     "text": [
      "y = DEFAULT_NEXT_MONTH\n",
      "X = ['LIMIT_BAL', 'SEX', 'EDUCATION', 'MARRIAGE', 'AGE', 'PAY_0', 'PAY_2', 'PAY_3', 'PAY_4', 'PAY_5', 'PAY_6', 'BILL_AMT1', 'BILL_AMT2', 'BILL_AMT3', 'BILL_AMT4', 'BILL_AMT5', 'BILL_AMT6', 'PAY_AMT1', 'PAY_AMT2', 'PAY_AMT3', 'PAY_AMT4', 'PAY_AMT5', 'PAY_AMT6']\n"
     ]
    }
   ],
   "source": [
    "# assign target and inputs for GBM\n",
    "y = 'DEFAULT_NEXT_MONTH'\n",
    "X = [name for name in data.columns if name not in [y, 'ID']]\n",
    "print('y =', y)\n",
    "print('X =', X)"
   ]
  },
  {
   "cell_type": "markdown",
   "metadata": {},
   "source": [
    "#### Helper function for recoding values in the UCI credict card default data\n",
    "This simple function maps longer, more understandable character string values from the UCI credit card default data dictionary to the original integer values of the input variables found in the dataset. These character values can be used directly in h2o decision tree models, and the function returns the original Pandas DataFrame as an h2o object, an H2OFrame. H2o models cannot run on Pandas DataFrames. They require H2OFrames."
   ]
  },
  {
   "cell_type": "code",
   "execution_count": 5,
   "metadata": {
    "collapsed": false
   },
   "outputs": [
    {
     "name": "stdout",
     "output_type": "stream",
     "text": [
      "Parse progress: |█████████████████████████████████████████████████████████| 100%\n"
     ]
    }
   ],
   "source": [
    "def recode_cc_data(frame):\n",
    "    \n",
    "    \"\"\" Recodes numeric categorical variables into categorical character variables\n",
    "    with more transparent values. \n",
    "    \n",
    "    Args:\n",
    "        frame: Pandas DataFrame version of UCI credit card default data.\n",
    "        \n",
    "    Returns: \n",
    "        H2OFrame with recoded values.\n",
    "        \n",
    "    \"\"\"\n",
    "    \n",
    "    # define recoded values\n",
    "    sex_dict = {1:'male', 2:'female'}\n",
    "    education_dict = {0:'other', 1:'graduate school', 2:'university', 3:'high school', \n",
    "                      4:'other', 5:'other', 6:'other'}\n",
    "    marriage_dict = {0:'other', 1:'married', 2:'single', 3:'divorced'}\n",
    "    pay_dict = {-2:'no consumption', -1:'pay duly', 0:'use of revolving credit', 1:'1 month delay', \n",
    "                2:'2 month delay', 3:'3 month delay', 4:'4 month delay', 5:'5 month delay', 6:'6 month delay', \n",
    "                7:'7 month delay', 8:'8 month delay', 9:'9+ month delay'}\n",
    "    \n",
    "    # recode values using Pandas apply() and anonymous function\n",
    "    frame['SEX'] = frame['SEX'].apply(lambda i: sex_dict[i])\n",
    "    frame['EDUCATION'] = frame['EDUCATION'].apply(lambda i: education_dict[i])    \n",
    "    frame['MARRIAGE'] = frame['MARRIAGE'].apply(lambda i: marriage_dict[i]) \n",
    "    for name in frame.columns:\n",
    "        if name in ['PAY_0', 'PAY_2', 'PAY_3', 'PAY_4', 'PAY_5', 'PAY_6']:\n",
    "            frame[name] = frame[name].apply(lambda i: pay_dict[i])            \n",
    "                \n",
    "    return h2o.H2OFrame(frame)\n",
    "\n",
    "data = recode_cc_data(data)"
   ]
  },
  {
   "cell_type": "markdown",
   "metadata": {},
   "source": [
    "#### Ensure target is handled as a categorical variable"
   ]
  },
  {
   "cell_type": "markdown",
   "metadata": {},
   "source": [
    "In h2o, a numeric variable can be treated as numeric or categorical. The target variable `DEFAULT_NEXT_MONTH` takes on values of `0` or `1`. To ensure this numeric variable is treated as a categorical variable, the `asfactor()` function is used to explicitly declare that it is a categorical variable. "
   ]
  },
  {
   "cell_type": "code",
   "execution_count": 6,
   "metadata": {
    "collapsed": true
   },
   "outputs": [],
   "source": [
    "data[y] = data[y].asfactor() "
   ]
  },
  {
   "cell_type": "markdown",
   "metadata": {},
   "source": [
    "#### Display descriptive statistics\n",
    "The h2o `describe()` function displays a brief description of the credit card default data. For the categorical input variables `LIMIT_BAL`, `SEX`, `EDUCATION`, `MARRIAGE`, and `PAY_0`-`PAY_6`, the new character values created above in cell 5 are visible. Basic descriptive statistics are displayed for numeric inputs. Also, it's easy to see there are no missing values in this dataset, which will be an important consideration for calculating LOCO values in section 5 and 6."
   ]
  },
  {
   "cell_type": "code",
   "execution_count": 7,
   "metadata": {
    "collapsed": false
   },
   "outputs": [
    {
     "name": "stdout",
     "output_type": "stream",
     "text": [
      "Rows:30000\n",
      "Cols:24\n",
      "\n",
      "\n"
     ]
    },
    {
     "data": {
      "text/html": [
       "<table>\n",
       "<thead>\n",
       "<tr><th>       </th><th>LIMIT_BAL         </th><th>SEX   </th><th>EDUCATION      </th><th>MARRIAGE  </th><th>AGE              </th><th>PAY_0                  </th><th>PAY_2                  </th><th>PAY_3                  </th><th>PAY_4                  </th><th>PAY_5                  </th><th>PAY_6                  </th><th>BILL_AMT1        </th><th>BILL_AMT2        </th><th>BILL_AMT3        </th><th>BILL_AMT4        </th><th>BILL_AMT5        </th><th>BILL_AMT6        </th><th>PAY_AMT1          </th><th>PAY_AMT2          </th><th>PAY_AMT3          </th><th>PAY_AMT4          </th><th>PAY_AMT5          </th><th>PAY_AMT6          </th><th>DEFAULT_NEXT_MONTH  </th></tr>\n",
       "</thead>\n",
       "<tbody>\n",
       "<tr><td>type   </td><td>int               </td><td>enum  </td><td>enum           </td><td>enum      </td><td>int              </td><td>enum                   </td><td>enum                   </td><td>enum                   </td><td>enum                   </td><td>enum                   </td><td>enum                   </td><td>int              </td><td>int              </td><td>int              </td><td>int              </td><td>int              </td><td>int              </td><td>int               </td><td>int               </td><td>int               </td><td>int               </td><td>int               </td><td>int               </td><td>enum                </td></tr>\n",
       "<tr><td>mins   </td><td>10000.0           </td><td>      </td><td>               </td><td>          </td><td>21.0             </td><td>                       </td><td>                       </td><td>                       </td><td>                       </td><td>                       </td><td>                       </td><td>-165580.0        </td><td>-69777.0         </td><td>-157264.0        </td><td>-170000.0        </td><td>-81334.0         </td><td>-339603.0        </td><td>0.0               </td><td>0.0               </td><td>0.0               </td><td>0.0               </td><td>0.0               </td><td>0.0               </td><td>                    </td></tr>\n",
       "<tr><td>mean   </td><td>167484.32266666688</td><td>      </td><td>               </td><td>          </td><td>35.48549999999994</td><td>                       </td><td>                       </td><td>                       </td><td>                       </td><td>                       </td><td>                       </td><td>51223.33090000009</td><td>49179.07516666668</td><td>47013.15479999971</td><td>43262.9489666666 </td><td>40311.40096666653</td><td>38871.76039999991</td><td>5663.580500000014 </td><td>5921.16350000001  </td><td>5225.681500000005 </td><td>4826.076866666661 </td><td>4799.387633333302 </td><td>5215.502566666664 </td><td>                    </td></tr>\n",
       "<tr><td>maxs   </td><td>1000000.0         </td><td>      </td><td>               </td><td>          </td><td>79.0             </td><td>                       </td><td>                       </td><td>                       </td><td>                       </td><td>                       </td><td>                       </td><td>964511.0         </td><td>983931.0         </td><td>1664089.0        </td><td>891586.0         </td><td>927171.0         </td><td>961664.0         </td><td>873552.0          </td><td>1684259.0         </td><td>896040.0          </td><td>621000.0          </td><td>426529.0          </td><td>528666.0          </td><td>                    </td></tr>\n",
       "<tr><td>sigma  </td><td>129747.66156720225</td><td>      </td><td>               </td><td>          </td><td>9.21790406809016 </td><td>                       </td><td>                       </td><td>                       </td><td>                       </td><td>                       </td><td>                       </td><td>73635.86057552959</td><td>71173.76878252836</td><td>69349.38742703681</td><td>64332.85613391641</td><td>60797.1557702648 </td><td>59554.10753674574</td><td>16563.280354025763</td><td>23040.870402057226</td><td>17606.961469803115</td><td>15666.159744031993</td><td>15278.305679144793</td><td>17777.465775435332</td><td>                    </td></tr>\n",
       "<tr><td>zeros  </td><td>0                 </td><td>      </td><td>               </td><td>          </td><td>0                </td><td>                       </td><td>                       </td><td>                       </td><td>                       </td><td>                       </td><td>                       </td><td>2008             </td><td>2506             </td><td>2870             </td><td>3195             </td><td>3506             </td><td>4020             </td><td>5249              </td><td>5396              </td><td>5968              </td><td>6408              </td><td>6703              </td><td>7173              </td><td>                    </td></tr>\n",
       "<tr><td>missing</td><td>0                 </td><td>0     </td><td>0              </td><td>0         </td><td>0                </td><td>0                      </td><td>0                      </td><td>0                      </td><td>0                      </td><td>0                      </td><td>0                      </td><td>0                </td><td>0                </td><td>0                </td><td>0                </td><td>0                </td><td>0                </td><td>0                 </td><td>0                 </td><td>0                 </td><td>0                 </td><td>0                 </td><td>0                 </td><td>0                   </td></tr>\n",
       "<tr><td>0      </td><td>20000.0           </td><td>female</td><td>university     </td><td>married   </td><td>24.0             </td><td>2 month delay          </td><td>2 month delay          </td><td>pay duly               </td><td>pay duly               </td><td>no consumption         </td><td>no consumption         </td><td>3913.0           </td><td>3102.0           </td><td>689.0            </td><td>0.0              </td><td>0.0              </td><td>0.0              </td><td>0.0               </td><td>689.0             </td><td>0.0               </td><td>0.0               </td><td>0.0               </td><td>0.0               </td><td>1                   </td></tr>\n",
       "<tr><td>1      </td><td>120000.0          </td><td>female</td><td>university     </td><td>single    </td><td>26.0             </td><td>pay duly               </td><td>2 month delay          </td><td>use of revolving credit</td><td>use of revolving credit</td><td>use of revolving credit</td><td>2 month delay          </td><td>2682.0           </td><td>1725.0           </td><td>2682.0           </td><td>3272.0           </td><td>3455.0           </td><td>3261.0           </td><td>0.0               </td><td>1000.0            </td><td>1000.0            </td><td>1000.0            </td><td>0.0               </td><td>2000.0            </td><td>1                   </td></tr>\n",
       "<tr><td>2      </td><td>90000.0           </td><td>female</td><td>university     </td><td>single    </td><td>34.0             </td><td>use of revolving credit</td><td>use of revolving credit</td><td>use of revolving credit</td><td>use of revolving credit</td><td>use of revolving credit</td><td>use of revolving credit</td><td>29239.0          </td><td>14027.0          </td><td>13559.0          </td><td>14331.0          </td><td>14948.0          </td><td>15549.0          </td><td>1518.0            </td><td>1500.0            </td><td>1000.0            </td><td>1000.0            </td><td>1000.0            </td><td>5000.0            </td><td>0                   </td></tr>\n",
       "<tr><td>3      </td><td>50000.0           </td><td>female</td><td>university     </td><td>married   </td><td>37.0             </td><td>use of revolving credit</td><td>use of revolving credit</td><td>use of revolving credit</td><td>use of revolving credit</td><td>use of revolving credit</td><td>use of revolving credit</td><td>46990.0          </td><td>48233.0          </td><td>49291.0          </td><td>28314.0          </td><td>28959.0          </td><td>29547.0          </td><td>2000.0            </td><td>2019.0            </td><td>1200.0            </td><td>1100.0            </td><td>1069.0            </td><td>1000.0            </td><td>0                   </td></tr>\n",
       "<tr><td>4      </td><td>50000.0           </td><td>male  </td><td>university     </td><td>married   </td><td>57.0             </td><td>pay duly               </td><td>use of revolving credit</td><td>pay duly               </td><td>use of revolving credit</td><td>use of revolving credit</td><td>use of revolving credit</td><td>8617.0           </td><td>5670.0           </td><td>35835.0          </td><td>20940.0          </td><td>19146.0          </td><td>19131.0          </td><td>2000.0            </td><td>36681.0           </td><td>10000.0           </td><td>9000.0            </td><td>689.0             </td><td>679.0             </td><td>0                   </td></tr>\n",
       "<tr><td>5      </td><td>50000.0           </td><td>male  </td><td>graduate school</td><td>single    </td><td>37.0             </td><td>use of revolving credit</td><td>use of revolving credit</td><td>use of revolving credit</td><td>use of revolving credit</td><td>use of revolving credit</td><td>use of revolving credit</td><td>64400.0          </td><td>57069.0          </td><td>57608.0          </td><td>19394.0          </td><td>19619.0          </td><td>20024.0          </td><td>2500.0            </td><td>1815.0            </td><td>657.0             </td><td>1000.0            </td><td>1000.0            </td><td>800.0             </td><td>0                   </td></tr>\n",
       "<tr><td>6      </td><td>500000.0          </td><td>male  </td><td>graduate school</td><td>single    </td><td>29.0             </td><td>use of revolving credit</td><td>use of revolving credit</td><td>use of revolving credit</td><td>use of revolving credit</td><td>use of revolving credit</td><td>use of revolving credit</td><td>367965.0         </td><td>412023.0         </td><td>445007.0         </td><td>542653.0         </td><td>483003.0         </td><td>473944.0         </td><td>55000.0           </td><td>40000.0           </td><td>38000.0           </td><td>20239.0           </td><td>13750.0           </td><td>13770.0           </td><td>0                   </td></tr>\n",
       "<tr><td>7      </td><td>100000.0          </td><td>female</td><td>university     </td><td>single    </td><td>23.0             </td><td>use of revolving credit</td><td>pay duly               </td><td>pay duly               </td><td>use of revolving credit</td><td>use of revolving credit</td><td>pay duly               </td><td>11876.0          </td><td>380.0            </td><td>601.0            </td><td>221.0            </td><td>-159.0           </td><td>567.0            </td><td>380.0             </td><td>601.0             </td><td>0.0               </td><td>581.0             </td><td>1687.0            </td><td>1542.0            </td><td>0                   </td></tr>\n",
       "<tr><td>8      </td><td>140000.0          </td><td>female</td><td>high school    </td><td>married   </td><td>28.0             </td><td>use of revolving credit</td><td>use of revolving credit</td><td>2 month delay          </td><td>use of revolving credit</td><td>use of revolving credit</td><td>use of revolving credit</td><td>11285.0          </td><td>14096.0          </td><td>12108.0          </td><td>12211.0          </td><td>11793.0          </td><td>3719.0           </td><td>3329.0            </td><td>0.0               </td><td>432.0             </td><td>1000.0            </td><td>1000.0            </td><td>1000.0            </td><td>0                   </td></tr>\n",
       "<tr><td>9      </td><td>20000.0           </td><td>male  </td><td>high school    </td><td>single    </td><td>35.0             </td><td>no consumption         </td><td>no consumption         </td><td>no consumption         </td><td>no consumption         </td><td>pay duly               </td><td>pay duly               </td><td>0.0              </td><td>0.0              </td><td>0.0              </td><td>0.0              </td><td>13007.0          </td><td>13912.0          </td><td>0.0               </td><td>0.0               </td><td>0.0               </td><td>13007.0           </td><td>1122.0            </td><td>0.0               </td><td>0                   </td></tr>\n",
       "</tbody>\n",
       "</table>"
      ]
     },
     "metadata": {},
     "output_type": "display_data"
    }
   ],
   "source": [
    "data[X + [y]].describe()"
   ]
  },
  {
   "cell_type": "markdown",
   "metadata": {},
   "source": [
    "## 2. Train an H2O GBM classifier"
   ]
  },
  {
   "cell_type": "markdown",
   "metadata": {},
   "source": [
    "#### Split data into training and test sets for early stopping\n",
    "The credit card default data is split into training and test sets to monitor and prevent overtraining. Reproducibility is also an important factor in creating trustworthy models, and randomly splitting datasets can introduce randomness in model predictions and other results. A random seed is used here to ensure the data split is reproducible."
   ]
  },
  {
   "cell_type": "code",
   "execution_count": 8,
   "metadata": {
    "collapsed": false
   },
   "outputs": [
    {
     "name": "stdout",
     "output_type": "stream",
     "text": [
      "Train data rows = 21060, columns = 25\n",
      "Test data rows = 8940, columns = 25\n"
     ]
    }
   ],
   "source": [
    "# split into training and validation\n",
    "train, test = data.split_frame([0.7], seed=12345)\n",
    "\n",
    "# summarize split\n",
    "print('Train data rows = %d, columns = %d' % (train.shape[0], train.shape[1]))\n",
    "print('Test data rows = %d, columns = %d' % (test.shape[0], test.shape[1]))"
   ]
  },
  {
   "cell_type": "markdown",
   "metadata": {},
   "source": [
    "#### Train h2o GBM classifier\n",
    "Many tuning parameters must be specified to train a GBM using h2o. Typically a grid search would be performed to identify the best parameters for a given modeling task using the `H2OGridSearch` class. For brevity's sake, a previously-discovered set of good tuning parameters are specified here. Because gradient boosting methods typically resample training data, an additional random seed is also specified for the h2o GBM using the `seed` parameter to create reproducible predictions, error rates, and variable importance values. To avoid overfitting, the `stopping_rounds` parameter is used to stop the training process after the test error fails to decrease for 5 iterations. "
   ]
  },
  {
   "cell_type": "code",
   "execution_count": 9,
   "metadata": {
    "collapsed": false
   },
   "outputs": [
    {
     "name": "stdout",
     "output_type": "stream",
     "text": [
      "gbm Model Build progress: |███████████████████████████████████████████████| 100%\n",
      "GBM Test AUC = 0.78\n"
     ]
    }
   ],
   "source": [
    "# initialize GBM model\n",
    "model = H2OGradientBoostingEstimator(ntrees=150,            # maximum 150 trees in GBM\n",
    "                                     max_depth=4,           # trees can have maximum depth of 4\n",
    "                                     sample_rate=0.9,       # use 90% of rows in each iteration (tree)\n",
    "                                     col_sample_rate=0.9,   # use 90% of variables in each iteration (tree)\n",
    "                                     #balance_classes=True, # sample to balance 0/1 distribution of target - can help LOCO\n",
    "                                     stopping_rounds=5,     # stop if validation error does not decrease for 5 iterations (trees)\n",
    "                                     score_tree_interval=1, # for reproducibility, set higher for bigger data\n",
    "                                     model_id='dia_gbm',    # for locating the model in Flow UI \n",
    "                                     seed=12345)            # for reproducibility\n",
    "\n",
    "# train a GBM model\n",
    "model.train(y=y, x=X, training_frame=train, validation_frame=test)\n",
    "\n",
    "# print AUC\n",
    "print('GBM Test AUC = %.2f' % model.auc(valid=True))\n",
    "\n",
    "# uncomment to see model details\n",
    "# print(model) "
   ]
  },
  {
   "cell_type": "markdown",
   "metadata": {},
   "source": [
    "#### Display variable importance\n",
    "During training, the h2o GBM aggregates the improvement in error caused by each split in each decision tree across all the decision trees in the ensemble classifier. These values are attributed to the input variable used in each split and give an indication of the contribution each input variable makes toward the model's predictions. The variable importance ranking should be parsimonious with human domain knowledge and reasonable expectations. In this case, a customer's most recent payment behavior, `PAY_0`, is by far the most important variable followed by their second most recent payment, `PAY_2`, and third most recent payment, `PAY_3`, behavior. This result is well-aligned with business practices in credit lending: people who miss their most recent payments are likely to default soon."
   ]
  },
  {
   "cell_type": "code",
   "execution_count": 10,
   "metadata": {
    "collapsed": false
   },
   "outputs": [
    {
     "data": {
      "image/png": "[encoded data removed]",
      "text/plain": [
       "<Figure size 1008x720 with 1 Axes>"
      ]
     },
     "metadata": {},
     "output_type": "display_data"
    }
   ],
   "source": [
    "model.varimp_plot()"
   ]
  },
  {
   "cell_type": "markdown",
   "metadata": {},
   "source": [
    "In sections below this notebook will assess whether the GBM is making disparate predictions for customers across educational levels. For now, it's a somewhat heartening sign that the GBM is not placing high importance on the `EDUCATION` variable."
   ]
  },
  {
   "cell_type": "markdown",
   "metadata": {},
   "source": [
    "#### Bind model predictions to test data for further calculations"
   ]
  },
  {
   "cell_type": "code",
   "execution_count": 11,
   "metadata": {
    "collapsed": false
   },
   "outputs": [
    {
     "name": "stdout",
     "output_type": "stream",
     "text": [
      "gbm prediction progress: |████████████████████████████████████████████████| 100%\n"
     ]
    }
   ],
   "source": [
    "# cbind predictions to training frame\n",
    "# give them a nice name\n",
    "yhat = 'p_DEFAULT_NEXT_MONTH'\n",
    "preds1 = test['ID'].cbind(model.predict(test).drop(['predict', 'p0']))\n",
    "preds1.columns = ['ID', yhat]\n",
    "test_yhat = test.cbind(preds1[yhat]).as_data_frame()"
   ]
  },
  {
   "cell_type": "markdown",
   "metadata": {},
   "source": [
    "# 3. Select a Probability Cutoff by Maximizing F1 Statistic"
   ]
  },
  {
   "cell_type": "markdown",
   "metadata": {},
   "source": [
    "#### Function to calculate AUC-PR Curve\n",
    "\n",
    "Predictive models often produce probabilities, not decisions. So to make a decision with a model-generated predicted probability for any one customer, you must specify a numeric cutoff above which we say a customer will default and below which we say they will not default. Cutoffs play a crucial role in DIA as they impact the underlying measurements used to calculate diparity. In fact, tuning cutoffs carefully is a potential remdiation tactic for any discovered disparity. There are many accepted ways to select a cutoff (besides simply using 0.5) and in this notebook the cutoff will be selected by striking a balance between the model's recall (true positive rate) and it's precision using the F1 statistic.  \n",
    "\n",
    "Selecting a cutoff can be done intervactively with h2o Flow as well. Enter the url: http://localhost:54321/flow/index.html (or your H2O Connection URL displayed in cell 2) into your browser. Select `Models` -> `List all models` -> `dia_gbm` and you should see an interactive ROC curve where you can pick your own cutoff.\n",
    "\n",
    "To learn more about confusion matrices see: https://en.wikipedia.org/wiki/Confusion_matrix."
   ]
  },
  {
   "cell_type": "code",
   "execution_count": 12,
   "metadata": {
    "collapsed": true
   },
   "outputs": [],
   "source": [
    "def get_prroc(frame, y, yhat, pos=1, neg=0, res=0.01):\n",
    "    \n",
    "    \"\"\" Calculates precision, recall, and f1 for a pandas dataframe of y and yhat values.\n",
    "    \n",
    "    Args:\n",
    "        frame: Pandas dataframe of actual (y) and predicted (yhat) values.\n",
    "        y: Name of actual value column.\n",
    "        yhat: Name of predicted value column.\n",
    "        pos: Primary target value, default 1.\n",
    "        neg: Secondary target value, default 0.\n",
    "        res: Resolution by which to loop through cutoffs, default 0.01.\n",
    "    \n",
    "    Returns:\n",
    "        Pandas dataframe of precision, recall, and f1 values. \n",
    "    \"\"\"\n",
    "    \n",
    "    frame_ = frame.copy(deep=True) # don't destroy original data\n",
    "    dname = 'd_' + str(y) # column for predicted decisions\n",
    "    eps = 1e-20 # for safe numerical operations\n",
    "    \n",
    "    # init p-r roc frame\n",
    "    prroc_frame = pd.DataFrame(columns=['cutoff', 'recall', 'precision', 'f1'])\n",
    "    \n",
    "    # loop through cutoffs to create p-r roc frame\n",
    "    for cutoff in np.arange(0, 1 + res, res):\n",
    "\n",
    "        # binarize decision to create confusion matrix values\n",
    "        frame_[dname] = np.where(frame_[yhat] > cutoff , 1, 0)\n",
    "        \n",
    "        # calculate confusion matrix values\n",
    "        tp = frame_[(frame_[dname] == pos) & (frame_[y] == pos)].shape[0]\n",
    "        fp = frame_[(frame_[dname] == pos) & (frame_[y] == neg)].shape[0]\n",
    "        tn = frame_[(frame_[dname] == neg) & (frame_[y] == neg)].shape[0]\n",
    "        fn = frame_[(frame_[dname] == neg) & (frame_[y] == pos)].shape[0]\n",
    "        \n",
    "        # calculate precision, recall, and f1\n",
    "        recall = (tp + eps)/((tp + fn) + eps)\n",
    "        precision = (tp + eps)/((tp + fp) + eps)\n",
    "        f1 = 2/((1/(recall + eps)) + (1/(precision + eps)))\n",
    "        \n",
    "        # add new values to frame\n",
    "        prroc_frame = prroc_frame.append({'cutoff': cutoff,\n",
    "                                          'recall': recall,\n",
    "                                          'precision': precision,\n",
    "                                          'f1': f1}, \n",
    "                                          ignore_index=True)\n",
    "    \n",
    "    # housekeeping\n",
    "    del frame_\n",
    "    \n",
    "    return prroc_frame\n",
    "        \n",
    "prroc_frame = get_prroc(test_yhat, 'DEFAULT_NEXT_MONTH', 'p_DEFAULT_NEXT_MONTH')"
   ]
  },
  {
   "cell_type": "markdown",
   "metadata": {},
   "source": [
    "#### Select best cutoff"
   ]
  },
  {
   "cell_type": "code",
   "execution_count": 13,
   "metadata": {
    "collapsed": false
   },
   "outputs": [
    {
     "name": "stdout",
     "output_type": "stream",
     "text": [
      "0.21\n"
     ]
    }
   ],
   "source": [
    "best_cut = prroc_frame.loc[prroc_frame['f1'].idxmax(), 'cutoff'] # Find cutoff w/ max F1\n",
    "print('%.2f' % best_cut)"
   ]
  },
  {
   "cell_type": "markdown",
   "metadata": {},
   "source": [
    "#### Plot AUC-PR Curve\n",
    "\n",
    "An area under the curve for precision and recall (AUC-PR) plot is a typical way to visualize recall and precision for a predictive model. The F1 statistic is the harmonic mean of recall and precision, and we can visualize where F1 is maximized on with the AUC-PR curve."
   ]
  },
  {
   "cell_type": "code",
   "execution_count": 14,
   "metadata": {
    "collapsed": false
   },
   "outputs": [
    {
     "data": {
      "image/png": "[encoded data removed]",
      "text/plain": [
       "<Figure size 432x288 with 1 Axes>"
      ]
     },
     "metadata": {},
     "output_type": "display_data"
    }
   ],
   "source": [
    "# Plot P-R ROC w/ best cutoff\n",
    "title_ = 'P-R Curve: Best F1 = ' + str(best_cut)\n",
    "ax = prroc_frame.plot(x='recall', y='precision', kind='scatter', title=title_, xlim=[0,1])\n",
    "_ = ax.axvline(best_cut, color='r')"
   ]
  },
  {
   "cell_type": "markdown",
   "metadata": {},
   "source": [
    "In h2o Flow a traditional ROC curve is displayed, in which true positive rate is plotted against false positive rate. You can still use h2o Flow and the traditional ROC curve to verify that F1 is maximized at a probability cutoff of ~ 0.21."
   ]
  },
  {
   "cell_type": "markdown",
   "metadata": {},
   "source": [
    "# 4. Report Raw Confusion Matrices\n",
    "\n",
    "The basic DIA procedure in this notebook is based on measurements found commonly in confusion matrices, so confusion matrices are calculated as a precursor to DIA and to provide a basic summary of the GBM's behavior in general and across eduction levels."
   ]
  },
  {
   "cell_type": "markdown",
   "metadata": {},
   "source": [
    "#### Function to print confusion matrices by an input variable"
   ]
  },
  {
   "cell_type": "code",
   "execution_count": 15,
   "metadata": {
    "collapsed": false
   },
   "outputs": [
    {
     "name": "stdout",
     "output_type": "stream",
     "text": [
      "Confusion matrix:\n"
     ]
    },
    {
     "data": {
      "text/html": [
       "<div>\n",
       "<style scoped>\n",
       "    .dataframe tbody tr th:only-of-type {\n",
       "        vertical-align: middle;\n",
       "    }\n",
       "\n",
       "    .dataframe tbody tr th {\n",
       "        vertical-align: top;\n",
       "    }\n",
       "\n",
       "    .dataframe thead th {\n",
       "        text-align: right;\n",
       "    }\n",
       "</style>\n",
       "<table border=\"1\" class=\"dataframe\">\n",
       "  <thead>\n",
       "    <tr style=\"text-align: right;\">\n",
       "      <th></th>\n",
       "      <th>actual: 1</th>\n",
       "      <th>actual: 0</th>\n",
       "    </tr>\n",
       "  </thead>\n",
       "  <tbody>\n",
       "    <tr>\n",
       "      <th>predicted: 1</th>\n",
       "      <td>1253</td>\n",
       "      <td>750</td>\n",
       "    </tr>\n",
       "    <tr>\n",
       "      <th>predicted: 0</th>\n",
       "      <td>1334</td>\n",
       "      <td>5603</td>\n",
       "    </tr>\n",
       "  </tbody>\n",
       "</table>\n",
       "</div>"
      ],
      "text/plain": [
       "             actual: 1 actual: 0\n",
       "predicted: 1      1253       750\n",
       "predicted: 0      1334      5603"
      ]
     },
     "execution_count": 15,
     "metadata": {},
     "output_type": "execute_result"
    }
   ],
   "source": [
    "def get_confusion_matrix(frame, y, yhat, by=None, level=None, cutoff=0.5):\n",
    "\n",
    "    \"\"\" Creates confusion matrix from pandas dataframe of y and yhat values, can be sliced \n",
    "        by a variable and level.\n",
    "    \n",
    "    Args:\n",
    "        frame: Pandas dataframe of actual (y) and predicted (yhat) values.\n",
    "        y: Name of actual value column.\n",
    "        yhat: Name of predicted value column.\n",
    "        by: By variable to slice frame before creating confusion matrix, default None.\n",
    "        level: Value of by variable to slice frame before creating confusion matrix, default None.\n",
    "        cutoff: Cutoff threshold for confusion matrix, default 0.5. \n",
    "\n",
    "    Returns:\n",
    "        Confusion matrix as pandas dataframe. \n",
    "    \"\"\"\n",
    "    \n",
    "    # determine levels of target (y) variable\n",
    "    # sort for consistency\n",
    "    level_list = list(frame[y].unique())\n",
    "    level_list.sort(reverse=True)\n",
    "\n",
    "    # init confusion matrix\n",
    "    cm_frame = pd.DataFrame(columns=['actual: ' +  str(i) for i in level_list], \n",
    "                            index=['predicted: ' + str(i) for i in level_list])\n",
    "    \n",
    "    # don't destroy original data\n",
    "    frame_ = frame.copy(deep=True)\n",
    "    \n",
    "    # convert numeric predictions to binary decisions using cutoff\n",
    "    dname = 'd_' + str(y)\n",
    "    frame_[dname] = np.where(frame_[yhat] > cutoff , 1, 0)\n",
    "    \n",
    "    # slice frame\n",
    "    if (by is not None) & (level is not None):\n",
    "        frame_ = frame_[frame[by] == level]\n",
    "    \n",
    "    # calculate size of each confusion matrix value\n",
    "    for i, lev_i in enumerate(level_list):\n",
    "        for j, lev_j in enumerate(level_list):\n",
    "            cm_frame.iat[i, j] = frame_[(frame_[y] == lev_i) & (frame_[dname] == lev_j)].shape[0]\n",
    "    \n",
    "    # output results\n",
    "    if by is None:\n",
    "        print('Confusion matrix:')\n",
    "    else:\n",
    "        print('Confusion matrix by ' + by + '=' + level)\n",
    "    \n",
    "    return cm_frame\n",
    "    \n",
    "    \n",
    "get_confusion_matrix(test_yhat, 'DEFAULT_NEXT_MONTH', 'p_DEFAULT_NEXT_MONTH', cutoff=best_cut)"
   ]
  },
  {
   "cell_type": "markdown",
   "metadata": {},
   "source": [
    "The general confusion matrix shows that the GBM is more accurate than not because the true positive and true negative cells contain the largest values by far. But the GBM seems to make a large number of type II errors or false negative predictions. False negatives are a known disparity issue, because for complex reasons, many credit scoring and other models tend to underestimate the likelihood a reference group - typically white males - to default. This is both a sociological fairness problem and a financial problem if a priviledged group is getting loans they don't really deserve and can't pay back."
   ]
  },
  {
   "cell_type": "markdown",
   "metadata": {},
   "source": [
    "#### Report confusion matrices by education level \n",
    "\n",
    "Because race is unavailable in the UCI credit card data set, `EDUCATION` level will be used to perform DIA. Note that while education level can be indicative of race, gender, or other protected-by-regulation attributes, DIA would typically be performed directly on race or gender. \n",
    "\n",
    "There are four `EDUCATION` levels in the data set:"
   ]
  },
  {
   "cell_type": "code",
   "execution_count": 16,
   "metadata": {
    "collapsed": false
   },
   "outputs": [
    {
     "data": {
      "text/plain": [
       "['university', 'high school', 'graduate school', 'other']"
      ]
     },
     "execution_count": 16,
     "metadata": {},
     "output_type": "execute_result"
    }
   ],
   "source": [
    "ed_levels = list(test_yhat['EDUCATION'].unique())\n",
    "ed_levels"
   ]
  },
  {
   "cell_type": "markdown",
   "metadata": {},
   "source": [
    "#### Confusion matrix for `Education = other`"
   ]
  },
  {
   "cell_type": "code",
   "execution_count": 17,
   "metadata": {
    "collapsed": false
   },
   "outputs": [
    {
     "name": "stdout",
     "output_type": "stream",
     "text": [
      "Confusion matrix by EDUCATION=other\n"
     ]
    },
    {
     "data": {
      "text/html": [
       "<div>\n",
       "<style scoped>\n",
       "    .dataframe tbody tr th:only-of-type {\n",
       "        vertical-align: middle;\n",
       "    }\n",
       "\n",
       "    .dataframe tbody tr th {\n",
       "        vertical-align: top;\n",
       "    }\n",
       "\n",
       "    .dataframe thead th {\n",
       "        text-align: right;\n",
       "    }\n",
       "</style>\n",
       "<table border=\"1\" class=\"dataframe\">\n",
       "  <thead>\n",
       "    <tr style=\"text-align: right;\">\n",
       "      <th></th>\n",
       "      <th>actual: 1</th>\n",
       "      <th>actual: 0</th>\n",
       "    </tr>\n",
       "  </thead>\n",
       "  <tbody>\n",
       "    <tr>\n",
       "      <th>predicted: 1</th>\n",
       "      <td>2</td>\n",
       "      <td>9</td>\n",
       "    </tr>\n",
       "    <tr>\n",
       "      <th>predicted: 0</th>\n",
       "      <td>6</td>\n",
       "      <td>116</td>\n",
       "    </tr>\n",
       "  </tbody>\n",
       "</table>\n",
       "</div>"
      ],
      "text/plain": [
       "             actual: 1 actual: 0\n",
       "predicted: 1         2         9\n",
       "predicted: 0         6       116"
      ]
     },
     "execution_count": 17,
     "metadata": {},
     "output_type": "execute_result"
    }
   ],
   "source": [
    "other_cm = get_confusion_matrix(test_yhat, 'DEFAULT_NEXT_MONTH', 'p_DEFAULT_NEXT_MONTH', by='EDUCATION', level='other', cutoff=best_cut)\n",
    "other_cm"
   ]
  },
  {
   "cell_type": "markdown",
   "metadata": {},
   "source": [
    "#### Confusion matrix for `Education = high school`"
   ]
  },
  {
   "cell_type": "code",
   "execution_count": 18,
   "metadata": {
    "collapsed": false
   },
   "outputs": [
    {
     "name": "stdout",
     "output_type": "stream",
     "text": [
      "Confusion matrix by EDUCATION=high school\n"
     ]
    },
    {
     "data": {
      "text/html": [
       "<div>\n",
       "<style scoped>\n",
       "    .dataframe tbody tr th:only-of-type {\n",
       "        vertical-align: middle;\n",
       "    }\n",
       "\n",
       "    .dataframe tbody tr th {\n",
       "        vertical-align: top;\n",
       "    }\n",
       "\n",
       "    .dataframe thead th {\n",
       "        text-align: right;\n",
       "    }\n",
       "</style>\n",
       "<table border=\"1\" class=\"dataframe\">\n",
       "  <thead>\n",
       "    <tr style=\"text-align: right;\">\n",
       "      <th></th>\n",
       "      <th>actual: 1</th>\n",
       "      <th>actual: 0</th>\n",
       "    </tr>\n",
       "  </thead>\n",
       "  <tbody>\n",
       "    <tr>\n",
       "      <th>predicted: 1</th>\n",
       "      <td>253</td>\n",
       "      <td>102</td>\n",
       "    </tr>\n",
       "    <tr>\n",
       "      <th>predicted: 0</th>\n",
       "      <td>280</td>\n",
       "      <td>831</td>\n",
       "    </tr>\n",
       "  </tbody>\n",
       "</table>\n",
       "</div>"
      ],
      "text/plain": [
       "             actual: 1 actual: 0\n",
       "predicted: 1       253       102\n",
       "predicted: 0       280       831"
      ]
     },
     "execution_count": 18,
     "metadata": {},
     "output_type": "execute_result"
    }
   ],
   "source": [
    "hs_cm = get_confusion_matrix(test_yhat, 'DEFAULT_NEXT_MONTH', 'p_DEFAULT_NEXT_MONTH', by='EDUCATION', level='high school', cutoff=best_cut)\n",
    "hs_cm"
   ]
  },
  {
   "cell_type": "markdown",
   "metadata": {},
   "source": [
    "#### Confusion matrix for `Education = university`"
   ]
  },
  {
   "cell_type": "code",
   "execution_count": 19,
   "metadata": {
    "collapsed": false
   },
   "outputs": [
    {
     "name": "stdout",
     "output_type": "stream",
     "text": [
      "Confusion matrix by EDUCATION=university\n"
     ]
    },
    {
     "data": {
      "text/html": [
       "<div>\n",
       "<style scoped>\n",
       "    .dataframe tbody tr th:only-of-type {\n",
       "        vertical-align: middle;\n",
       "    }\n",
       "\n",
       "    .dataframe tbody tr th {\n",
       "        vertical-align: top;\n",
       "    }\n",
       "\n",
       "    .dataframe thead th {\n",
       "        text-align: right;\n",
       "    }\n",
       "</style>\n",
       "<table border=\"1\" class=\"dataframe\">\n",
       "  <thead>\n",
       "    <tr style=\"text-align: right;\">\n",
       "      <th></th>\n",
       "      <th>actual: 1</th>\n",
       "      <th>actual: 0</th>\n",
       "    </tr>\n",
       "  </thead>\n",
       "  <tbody>\n",
       "    <tr>\n",
       "      <th>predicted: 1</th>\n",
       "      <td>633</td>\n",
       "      <td>388</td>\n",
       "    </tr>\n",
       "    <tr>\n",
       "      <th>predicted: 0</th>\n",
       "      <td>655</td>\n",
       "      <td>2515</td>\n",
       "    </tr>\n",
       "  </tbody>\n",
       "</table>\n",
       "</div>"
      ],
      "text/plain": [
       "             actual: 1 actual: 0\n",
       "predicted: 1       633       388\n",
       "predicted: 0       655      2515"
      ]
     },
     "execution_count": 19,
     "metadata": {},
     "output_type": "execute_result"
    }
   ],
   "source": [
    "uni_cm = get_confusion_matrix(test_yhat, 'DEFAULT_NEXT_MONTH', 'p_DEFAULT_NEXT_MONTH', by='EDUCATION', level='university', cutoff=best_cut)\n",
    "uni_cm"
   ]
  },
  {
   "cell_type": "markdown",
   "metadata": {},
   "source": [
    "#### Confusion matrix for `Education = graduate school`"
   ]
  },
  {
   "cell_type": "code",
   "execution_count": 20,
   "metadata": {
    "collapsed": false
   },
   "outputs": [
    {
     "name": "stdout",
     "output_type": "stream",
     "text": [
      "Confusion matrix by EDUCATION=graduate school\n"
     ]
    },
    {
     "data": {
      "text/html": [
       "<div>\n",
       "<style scoped>\n",
       "    .dataframe tbody tr th:only-of-type {\n",
       "        vertical-align: middle;\n",
       "    }\n",
       "\n",
       "    .dataframe tbody tr th {\n",
       "        vertical-align: top;\n",
       "    }\n",
       "\n",
       "    .dataframe thead th {\n",
       "        text-align: right;\n",
       "    }\n",
       "</style>\n",
       "<table border=\"1\" class=\"dataframe\">\n",
       "  <thead>\n",
       "    <tr style=\"text-align: right;\">\n",
       "      <th></th>\n",
       "      <th>actual: 1</th>\n",
       "      <th>actual: 0</th>\n",
       "    </tr>\n",
       "  </thead>\n",
       "  <tbody>\n",
       "    <tr>\n",
       "      <th>predicted: 1</th>\n",
       "      <td>365</td>\n",
       "      <td>251</td>\n",
       "    </tr>\n",
       "    <tr>\n",
       "      <th>predicted: 0</th>\n",
       "      <td>393</td>\n",
       "      <td>2141</td>\n",
       "    </tr>\n",
       "  </tbody>\n",
       "</table>\n",
       "</div>"
      ],
      "text/plain": [
       "             actual: 1 actual: 0\n",
       "predicted: 1       365       251\n",
       "predicted: 0       393      2141"
      ]
     },
     "execution_count": 20,
     "metadata": {},
     "output_type": "execute_result"
    }
   ],
   "source": [
    "gs_cm = get_confusion_matrix(test_yhat, 'DEFAULT_NEXT_MONTH', 'p_DEFAULT_NEXT_MONTH', by='EDUCATION', level='graduate school', cutoff=best_cut)\n",
    "gs_cm"
   ]
  },
  {
   "cell_type": "markdown",
   "metadata": {},
   "source": [
    "# 6. Disparate Impact Analysis (DIA)"
   ]
  },
  {
   "cell_type": "markdown",
   "metadata": {},
   "source": [
    "To perform the following basic DIA many different values from the confusion matrices reflecting different prediction behavior are calculated. These metrics essentially help us understand the GBM's overall performance and how it behaves when predicting:\n",
    "\n",
    "* Default correctly\n",
    "* Non-default correctly\n",
    "* Default incorrectly (type I errors)\n",
    "* Non-default incorrectly (type II errors)\n",
    "\n",
    "In a real-life lending scenario, type I errors essentially amount to false accusations of financial impropriety and type II errors result in awarding loans to undeserving customers. Both types of errors can be costly to the lender too. Type I errors likely result in lost interest and fees. Type II errors often result in write-offs."
   ]
  },
  {
   "cell_type": "markdown",
   "metadata": {},
   "source": [
    "#### Dictionary of metrics used to assess parity"
   ]
  },
  {
   "cell_type": "code",
   "execution_count": 21,
   "metadata": {
    "collapsed": true
   },
   "outputs": [],
   "source": [
    "# represent metrics as dictionary for use later\n",
    "metric_dict = {\n",
    "\n",
    "#### overall performance\n",
    "#'Prevalence': '(tp + fn) / (tp + tn +fp + fn)', # how much default actually happens for this group\n",
    "'Adverse Impact': '(tp + fp) / (tp + tn + fp + fn)', # how often the model predicted default for each group   \n",
    "'Accuracy':       '(tp + tn) / (tp + tn + fp + fn)', # how often the model predicts default and non-default correctly for this group\n",
    "\n",
    "#### predicting default will happen\n",
    "# (correctly)\n",
    "'True Positive Rate': 'tp / (tp + fn)',  # out of the people in the group *that did* default, how many the model predicted *correctly* would default              \n",
    "'Precision':          'tp / (tp + fp)',  # out of the people in the group the model *predicted* would default, how many the model predicted *correctly* would default\n",
    "\n",
    "#### predicting default won't happen\n",
    "# (correctly)\n",
    "'Specificity':              'tn / (tn + fp)', # out of the people in the group *that did not* default, how many the model predicted *correctly* would not default\n",
    "'Negative Predicted Value': 'tn / (tn + fn)', # out of the people in the group the model *predicted* would not default, how many the model predicted *correctly* would not default  \n",
    "\n",
    "#### analyzing errors - type I\n",
    "# false accusations \n",
    "'False Positive Rate':  'fp / (tn + fp)', # out of the people in the group *that did not* default, how many the model predicted *incorrectly* would default\n",
    "'False Discovery Rate': 'fp / (tp + fp)', # out of the people in the group the model *predicted* would default, how many the model predicted *incorrectly* would default\n",
    "\n",
    "#### analyzing errors - type II\n",
    "# costly ommisions\n",
    "'False Negative Rate': 'fn / (tp + fn)', # out of the people in the group *that did* default, how many the model predicted *incorrectly* would not default\n",
    "'False Omissions Rate':'fn / (tn + fn)'  # out of the people in the group the model *predicted* would not default, how many the model predicted *incorrectly* would not default\n",
    "}    "
   ]
  },
  {
   "cell_type": "markdown",
   "metadata": {},
   "source": [
    "#### Utility function to translate metrics into Pandas statements"
   ]
  },
  {
   "cell_type": "code",
   "execution_count": 22,
   "metadata": {
    "collapsed": true
   },
   "outputs": [],
   "source": [
    "# small utility function\n",
    "# translates abbreviated metric expressions into executable Python statements\n",
    "\n",
    "def cm_exp_parser(expression):\n",
    "    \n",
    "    # tp | fp       cm_dict[level].iat[0, 0] | cm_dict[level].iat[0, 1]\n",
    "    # -------  ==>  --------------------------------------------\n",
    "    # fn | tn       cm_dict[level].iat[1, 0] | cm_dict[level].iat[1, 1]\n",
    "\n",
    "    expression = expression.replace('tp', 'cm_dict[level].iat[0, 0]')\\\n",
    "                           .replace('fp', 'cm_dict[level].iat[0, 1]')\\\n",
    "                           .replace('fn', 'cm_dict[level].iat[1, 0]')\\\n",
    "                           .replace('tn', 'cm_dict[level].iat[1, 1]')\n",
    "\n",
    "    return expression\n"
   ]
  },
  {
   "cell_type": "markdown",
   "metadata": {},
   "source": [
    "#### Calculate and report metrics\n",
    "This nested loop calculates all the metrics defined above for each education level."
   ]
  },
  {
   "cell_type": "code",
   "execution_count": 23,
   "metadata": {
    "collapsed": false
   },
   "outputs": [
    {
     "data": {
      "text/html": [
       "<div>\n",
       "<style scoped>\n",
       "    .dataframe tbody tr th:only-of-type {\n",
       "        vertical-align: middle;\n",
       "    }\n",
       "\n",
       "    .dataframe tbody tr th {\n",
       "        vertical-align: top;\n",
       "    }\n",
       "\n",
       "    .dataframe thead th {\n",
       "        text-align: right;\n",
       "    }\n",
       "</style>\n",
       "<table border=\"1\" class=\"dataframe\">\n",
       "  <thead>\n",
       "    <tr style=\"text-align: right;\">\n",
       "      <th></th>\n",
       "      <th>False Positive Rate</th>\n",
       "      <th>False Omissions Rate</th>\n",
       "      <th>False Discovery Rate</th>\n",
       "      <th>Precision</th>\n",
       "      <th>Accuracy</th>\n",
       "      <th>Specificity</th>\n",
       "      <th>Negative Predicted Value</th>\n",
       "      <th>True Positive Rate</th>\n",
       "      <th>Adverse Impact</th>\n",
       "      <th>False Negative Rate</th>\n",
       "    </tr>\n",
       "  </thead>\n",
       "  <tbody>\n",
       "    <tr>\n",
       "      <th>university</th>\n",
       "      <td>0.133655</td>\n",
       "      <td>0.206625</td>\n",
       "      <td>0.380020</td>\n",
       "      <td>0.619980</td>\n",
       "      <td>0.751133</td>\n",
       "      <td>0.866345</td>\n",
       "      <td>0.793375</td>\n",
       "      <td>0.491460</td>\n",
       "      <td>0.243617</td>\n",
       "      <td>0.508540</td>\n",
       "    </tr>\n",
       "    <tr>\n",
       "      <th>high school</th>\n",
       "      <td>0.109325</td>\n",
       "      <td>0.252025</td>\n",
       "      <td>0.287324</td>\n",
       "      <td>0.712676</td>\n",
       "      <td>0.739427</td>\n",
       "      <td>0.890675</td>\n",
       "      <td>0.747975</td>\n",
       "      <td>0.474672</td>\n",
       "      <td>0.242156</td>\n",
       "      <td>0.525328</td>\n",
       "    </tr>\n",
       "    <tr>\n",
       "      <th>graduate school</th>\n",
       "      <td>0.104933</td>\n",
       "      <td>0.155091</td>\n",
       "      <td>0.407468</td>\n",
       "      <td>0.592532</td>\n",
       "      <td>0.795556</td>\n",
       "      <td>0.895067</td>\n",
       "      <td>0.844909</td>\n",
       "      <td>0.481530</td>\n",
       "      <td>0.195556</td>\n",
       "      <td>0.518470</td>\n",
       "    </tr>\n",
       "    <tr>\n",
       "      <th>other</th>\n",
       "      <td>0.072000</td>\n",
       "      <td>0.049180</td>\n",
       "      <td>0.818182</td>\n",
       "      <td>0.181818</td>\n",
       "      <td>0.887218</td>\n",
       "      <td>0.928000</td>\n",
       "      <td>0.950820</td>\n",
       "      <td>0.250000</td>\n",
       "      <td>0.082707</td>\n",
       "      <td>0.750000</td>\n",
       "    </tr>\n",
       "  </tbody>\n",
       "</table>\n",
       "</div>"
      ],
      "text/plain": [
       "                 False Positive Rate  False Omissions Rate  \\\n",
       "university                  0.133655              0.206625   \n",
       "high school                 0.109325              0.252025   \n",
       "graduate school             0.104933              0.155091   \n",
       "other                       0.072000              0.049180   \n",
       "\n",
       "                 False Discovery Rate  Precision  Accuracy  Specificity  \\\n",
       "university                   0.380020   0.619980  0.751133     0.866345   \n",
       "high school                  0.287324   0.712676  0.739427     0.890675   \n",
       "graduate school              0.407468   0.592532  0.795556     0.895067   \n",
       "other                        0.818182   0.181818  0.887218     0.928000   \n",
       "\n",
       "                 Negative Predicted Value  True Positive Rate  Adverse Impact  \\\n",
       "university                       0.793375            0.491460        0.243617   \n",
       "high school                      0.747975            0.474672        0.242156   \n",
       "graduate school                  0.844909            0.481530        0.195556   \n",
       "other                            0.950820            0.250000        0.082707   \n",
       "\n",
       "                 False Negative Rate  \n",
       "university                  0.508540  \n",
       "high school                 0.525328  \n",
       "graduate school             0.518470  \n",
       "other                       0.750000  "
      ]
     },
     "execution_count": 23,
     "metadata": {},
     "output_type": "execute_result"
    }
   ],
   "source": [
    "# initialize dict of confusion matrices and corresponding rows of dataframe\n",
    "cm_dict = {'other': other_cm, \n",
    "           'high school': hs_cm, \n",
    "           'university': uni_cm, \n",
    "           'graduate school': gs_cm} \n",
    "\n",
    "metrics_frame = pd.DataFrame(index=ed_levels) # frame for metrics\n",
    "\n",
    "# nested loop through:\n",
    "# - education levels\n",
    "# - metrics \n",
    "for level in ed_levels:\n",
    "    for metric in metric_dict.keys():\n",
    "              \n",
    "        # parse metric expressions into executable pandas statements\n",
    "        expression = cm_exp_parser(metric_dict[metric])\n",
    "\n",
    "        # dynamically evaluate metrics to avoid code duplication\n",
    "        metrics_frame.loc[level, metric] = eval(expression)  \n",
    "\n",
    "# display results                \n",
    "metrics_frame"
   ]
  },
  {
   "cell_type": "markdown",
   "metadata": {},
   "source": [
    "From eyeballing the raw metrics we can start to see a few potential disparity problems, particularly related to customers with `EDUCATION = other`. This is the smallest group in the data set, so it's not totally surprising that the GBM may struggle to treat it appropriately. "
   ]
  },
  {
   "cell_type": "markdown",
   "metadata": {},
   "source": [
    "#### Plot false negative rate by education level "
   ]
  },
  {
   "cell_type": "markdown",
   "metadata": {},
   "source": [
    "Customers with `EDUCATION = other` is a small group with a low default prevalence (0.06), and the GBM appears to underestimate the probability of default for these customers. They have a low true positive rate (0.25), a high specificity (or true negative rate) (0.92), a low false positive rate (0.072) and a high false negative rate (0.75). As dicussed above, false negatives are known to be potentially problematic from a fairness perspective and can be costly for the lender. (Of course other metrics are also important from a fairness and business perspective. Only false negative rate is plotted and discussed here for brevity's sake. For an excellent in-depth discussion and example regarding numerous disparity metrics, see: https://github.com/dssg/aequitas/blob/master/docs/source/examples/compas_demo.ipynb)"
   ]
  },
  {
   "cell_type": "code",
   "execution_count": 24,
   "metadata": {
    "collapsed": false
   },
   "outputs": [
    {
     "data": {
      "image/png": "[encoded data removed]",
      "text/plain": [
       "<Figure size 432x288 with 1 Axes>"
      ]
     },
     "metadata": {},
     "output_type": "display_data"
    }
   ],
   "source": [
    "_ = metrics_frame['False Negative Rate'].plot(kind='bar', color='b', title='False Negative Rate by Education Level')"
   ]
  },
  {
   "cell_type": "markdown",
   "metadata": {},
   "source": [
    "#### Calculate and report disparity\n",
    "To calculate disparity we compare the confusion matrix for each education level to the metrics for a user-defined reference level and to user-defined thresholds. In this case, we take the class of people who seem least likely to default as the reference level, i.e. `EDUCATION = graduate school`. (Usually the reference level would be `race = white` or `sex = male`.) We set thresholds such that metrics 20% lower or higher than the reference level metric will be flagged as disparate. "
   ]
  },
  {
   "cell_type": "code",
   "execution_count": 25,
   "metadata": {
    "collapsed": false
   },
   "outputs": [
    {
     "data": {
      "text/html": [
       "<style  type=\"text/css\" >\n",
       "    #T_a19354d2_6dc3_11e9_b750_c4b301c40d7brow0_col0 {\n",
       "            color:  red;\n",
       "        }    #T_a19354d2_6dc3_11e9_b750_c4b301c40d7brow0_col1 {\n",
       "            color:  red;\n",
       "        }    #T_a19354d2_6dc3_11e9_b750_c4b301c40d7brow0_col2 {\n",
       "            color:  blue;\n",
       "        }    #T_a19354d2_6dc3_11e9_b750_c4b301c40d7brow0_col3 {\n",
       "            color:  blue;\n",
       "        }    #T_a19354d2_6dc3_11e9_b750_c4b301c40d7brow0_col4 {\n",
       "            color:  blue;\n",
       "        }    #T_a19354d2_6dc3_11e9_b750_c4b301c40d7brow0_col5 {\n",
       "            color:  blue;\n",
       "        }    #T_a19354d2_6dc3_11e9_b750_c4b301c40d7brow0_col6 {\n",
       "            color:  blue;\n",
       "        }    #T_a19354d2_6dc3_11e9_b750_c4b301c40d7brow0_col7 {\n",
       "            color:  blue;\n",
       "        }    #T_a19354d2_6dc3_11e9_b750_c4b301c40d7brow0_col8 {\n",
       "            color:  blue;\n",
       "        }    #T_a19354d2_6dc3_11e9_b750_c4b301c40d7brow0_col9 {\n",
       "            color:  blue;\n",
       "        }    #T_a19354d2_6dc3_11e9_b750_c4b301c40d7brow1_col0 {\n",
       "            color:  blue;\n",
       "        }    #T_a19354d2_6dc3_11e9_b750_c4b301c40d7brow1_col1 {\n",
       "            color:  red;\n",
       "        }    #T_a19354d2_6dc3_11e9_b750_c4b301c40d7brow1_col2 {\n",
       "            color:  red;\n",
       "        }    #T_a19354d2_6dc3_11e9_b750_c4b301c40d7brow1_col3 {\n",
       "            color:  blue;\n",
       "        }    #T_a19354d2_6dc3_11e9_b750_c4b301c40d7brow1_col4 {\n",
       "            color:  blue;\n",
       "        }    #T_a19354d2_6dc3_11e9_b750_c4b301c40d7brow1_col5 {\n",
       "            color:  blue;\n",
       "        }    #T_a19354d2_6dc3_11e9_b750_c4b301c40d7brow1_col6 {\n",
       "            color:  blue;\n",
       "        }    #T_a19354d2_6dc3_11e9_b750_c4b301c40d7brow1_col7 {\n",
       "            color:  blue;\n",
       "        }    #T_a19354d2_6dc3_11e9_b750_c4b301c40d7brow1_col8 {\n",
       "            color:  blue;\n",
       "        }    #T_a19354d2_6dc3_11e9_b750_c4b301c40d7brow1_col9 {\n",
       "            color:  blue;\n",
       "        }    #T_a19354d2_6dc3_11e9_b750_c4b301c40d7brow2_col0 {\n",
       "            color:  blue;\n",
       "        }    #T_a19354d2_6dc3_11e9_b750_c4b301c40d7brow2_col1 {\n",
       "            color:  blue;\n",
       "        }    #T_a19354d2_6dc3_11e9_b750_c4b301c40d7brow2_col2 {\n",
       "            color:  blue;\n",
       "        }    #T_a19354d2_6dc3_11e9_b750_c4b301c40d7brow2_col3 {\n",
       "            color:  blue;\n",
       "        }    #T_a19354d2_6dc3_11e9_b750_c4b301c40d7brow2_col4 {\n",
       "            color:  blue;\n",
       "        }    #T_a19354d2_6dc3_11e9_b750_c4b301c40d7brow2_col5 {\n",
       "            color:  blue;\n",
       "        }    #T_a19354d2_6dc3_11e9_b750_c4b301c40d7brow2_col6 {\n",
       "            color:  blue;\n",
       "        }    #T_a19354d2_6dc3_11e9_b750_c4b301c40d7brow2_col7 {\n",
       "            color:  blue;\n",
       "        }    #T_a19354d2_6dc3_11e9_b750_c4b301c40d7brow2_col8 {\n",
       "            color:  blue;\n",
       "        }    #T_a19354d2_6dc3_11e9_b750_c4b301c40d7brow2_col9 {\n",
       "            color:  blue;\n",
       "        }    #T_a19354d2_6dc3_11e9_b750_c4b301c40d7brow3_col0 {\n",
       "            color:  red;\n",
       "        }    #T_a19354d2_6dc3_11e9_b750_c4b301c40d7brow3_col1 {\n",
       "            color:  red;\n",
       "        }    #T_a19354d2_6dc3_11e9_b750_c4b301c40d7brow3_col2 {\n",
       "            color:  red;\n",
       "        }    #T_a19354d2_6dc3_11e9_b750_c4b301c40d7brow3_col3 {\n",
       "            color:  red;\n",
       "        }    #T_a19354d2_6dc3_11e9_b750_c4b301c40d7brow3_col4 {\n",
       "            color:  blue;\n",
       "        }    #T_a19354d2_6dc3_11e9_b750_c4b301c40d7brow3_col5 {\n",
       "            color:  blue;\n",
       "        }    #T_a19354d2_6dc3_11e9_b750_c4b301c40d7brow3_col6 {\n",
       "            color:  blue;\n",
       "        }    #T_a19354d2_6dc3_11e9_b750_c4b301c40d7brow3_col7 {\n",
       "            color:  red;\n",
       "        }    #T_a19354d2_6dc3_11e9_b750_c4b301c40d7brow3_col8 {\n",
       "            color:  red;\n",
       "        }    #T_a19354d2_6dc3_11e9_b750_c4b301c40d7brow3_col9 {\n",
       "            color:  red;\n",
       "        }</style>  \n",
       "<table id=\"T_a19354d2_6dc3_11e9_b750_c4b301c40d7b\" > \n",
       "<thead>    <tr> \n",
       "        <th class=\"blank level0\" ></th> \n",
       "        <th class=\"col_heading level0 col0\" >False Positive Rate Disparity</th> \n",
       "        <th class=\"col_heading level0 col1\" >False Omissions Rate Disparity</th> \n",
       "        <th class=\"col_heading level0 col2\" >False Discovery Rate Disparity</th> \n",
       "        <th class=\"col_heading level0 col3\" >Precision Disparity</th> \n",
       "        <th class=\"col_heading level0 col4\" >Accuracy Disparity</th> \n",
       "        <th class=\"col_heading level0 col5\" >Specificity Disparity</th> \n",
       "        <th class=\"col_heading level0 col6\" >Negative Predicted Value Disparity</th> \n",
       "        <th class=\"col_heading level0 col7\" >True Positive Rate Disparity</th> \n",
       "        <th class=\"col_heading level0 col8\" >Adverse Impact Disparity</th> \n",
       "        <th class=\"col_heading level0 col9\" >False Negative Rate Disparity</th> \n",
       "    </tr></thead> \n",
       "<tbody>    <tr> \n",
       "        <th id=\"T_a19354d2_6dc3_11e9_b750_c4b301c40d7blevel0_row0\" class=\"row_heading level0 row0\" >university</th> \n",
       "        <td id=\"T_a19354d2_6dc3_11e9_b750_c4b301c40d7brow0_col0\" class=\"data row0 col0\" >1.27371</td> \n",
       "        <td id=\"T_a19354d2_6dc3_11e9_b750_c4b301c40d7brow0_col1\" class=\"data row0 col1\" >1.33228</td> \n",
       "        <td id=\"T_a19354d2_6dc3_11e9_b750_c4b301c40d7brow0_col2\" class=\"data row0 col2\" >0.932638</td> \n",
       "        <td id=\"T_a19354d2_6dc3_11e9_b750_c4b301c40d7brow0_col3\" class=\"data row0 col3\" >1.04632</td> \n",
       "        <td id=\"T_a19354d2_6dc3_11e9_b750_c4b301c40d7brow0_col4\" class=\"data row0 col4\" >0.944162</td> \n",
       "        <td id=\"T_a19354d2_6dc3_11e9_b750_c4b301c40d7brow0_col5\" class=\"data row0 col5\" >0.967911</td> \n",
       "        <td id=\"T_a19354d2_6dc3_11e9_b750_c4b301c40d7brow0_col6\" class=\"data row0 col6\" >0.939007</td> \n",
       "        <td id=\"T_a19354d2_6dc3_11e9_b750_c4b301c40d7brow0_col7\" class=\"data row0 col7\" >1.02062</td> \n",
       "        <td id=\"T_a19354d2_6dc3_11e9_b750_c4b301c40d7brow0_col8\" class=\"data row0 col8\" >1.24577</td> \n",
       "        <td id=\"T_a19354d2_6dc3_11e9_b750_c4b301c40d7brow0_col9\" class=\"data row0 col9\" >0.980849</td> \n",
       "    </tr>    <tr> \n",
       "        <th id=\"T_a19354d2_6dc3_11e9_b750_c4b301c40d7blevel0_row1\" class=\"row_heading level0 row1\" >high school</th> \n",
       "        <td id=\"T_a19354d2_6dc3_11e9_b750_c4b301c40d7brow1_col0\" class=\"data row1 col0\" >1.04185</td> \n",
       "        <td id=\"T_a19354d2_6dc3_11e9_b750_c4b301c40d7brow1_col1\" class=\"data row1 col1\" >1.62502</td> \n",
       "        <td id=\"T_a19354d2_6dc3_11e9_b750_c4b301c40d7brow1_col2\" class=\"data row1 col2\" >0.705146</td> \n",
       "        <td id=\"T_a19354d2_6dc3_11e9_b750_c4b301c40d7brow1_col3\" class=\"data row1 col3\" >1.20276</td> \n",
       "        <td id=\"T_a19354d2_6dc3_11e9_b750_c4b301c40d7brow1_col4\" class=\"data row1 col4\" >0.929447</td> \n",
       "        <td id=\"T_a19354d2_6dc3_11e9_b750_c4b301c40d7brow1_col5\" class=\"data row1 col5\" >0.995093</td> \n",
       "        <td id=\"T_a19354d2_6dc3_11e9_b750_c4b301c40d7brow1_col6\" class=\"data row1 col6\" >0.885272</td> \n",
       "        <td id=\"T_a19354d2_6dc3_11e9_b750_c4b301c40d7brow1_col7\" class=\"data row1 col7\" >0.985757</td> \n",
       "        <td id=\"T_a19354d2_6dc3_11e9_b750_c4b301c40d7brow1_col8\" class=\"data row1 col8\" >1.2383</td> \n",
       "        <td id=\"T_a19354d2_6dc3_11e9_b750_c4b301c40d7brow1_col9\" class=\"data row1 col9\" >1.01323</td> \n",
       "    </tr>    <tr> \n",
       "        <th id=\"T_a19354d2_6dc3_11e9_b750_c4b301c40d7blevel0_row2\" class=\"row_heading level0 row2\" >graduate school</th> \n",
       "        <td id=\"T_a19354d2_6dc3_11e9_b750_c4b301c40d7brow2_col0\" class=\"data row2 col0\" >1</td> \n",
       "        <td id=\"T_a19354d2_6dc3_11e9_b750_c4b301c40d7brow2_col1\" class=\"data row2 col1\" >1</td> \n",
       "        <td id=\"T_a19354d2_6dc3_11e9_b750_c4b301c40d7brow2_col2\" class=\"data row2 col2\" >1</td> \n",
       "        <td id=\"T_a19354d2_6dc3_11e9_b750_c4b301c40d7brow2_col3\" class=\"data row2 col3\" >1</td> \n",
       "        <td id=\"T_a19354d2_6dc3_11e9_b750_c4b301c40d7brow2_col4\" class=\"data row2 col4\" >1</td> \n",
       "        <td id=\"T_a19354d2_6dc3_11e9_b750_c4b301c40d7brow2_col5\" class=\"data row2 col5\" >1</td> \n",
       "        <td id=\"T_a19354d2_6dc3_11e9_b750_c4b301c40d7brow2_col6\" class=\"data row2 col6\" >1</td> \n",
       "        <td id=\"T_a19354d2_6dc3_11e9_b750_c4b301c40d7brow2_col7\" class=\"data row2 col7\" >1</td> \n",
       "        <td id=\"T_a19354d2_6dc3_11e9_b750_c4b301c40d7brow2_col8\" class=\"data row2 col8\" >1</td> \n",
       "        <td id=\"T_a19354d2_6dc3_11e9_b750_c4b301c40d7brow2_col9\" class=\"data row2 col9\" >1</td> \n",
       "    </tr>    <tr> \n",
       "        <th id=\"T_a19354d2_6dc3_11e9_b750_c4b301c40d7blevel0_row3\" class=\"row_heading level0 row3\" >other</th> \n",
       "        <td id=\"T_a19354d2_6dc3_11e9_b750_c4b301c40d7brow3_col0\" class=\"data row3 col0\" >0.686151</td> \n",
       "        <td id=\"T_a19354d2_6dc3_11e9_b750_c4b301c40d7brow3_col1\" class=\"data row3 col1\" >0.317107</td> \n",
       "        <td id=\"T_a19354d2_6dc3_11e9_b750_c4b301c40d7brow3_col2\" class=\"data row3 col2\" >2.00797</td> \n",
       "        <td id=\"T_a19354d2_6dc3_11e9_b750_c4b301c40d7brow3_col3\" class=\"data row3 col3\" >0.306849</td> \n",
       "        <td id=\"T_a19354d2_6dc3_11e9_b750_c4b301c40d7brow3_col4\" class=\"data row3 col4\" >1.11522</td> \n",
       "        <td id=\"T_a19354d2_6dc3_11e9_b750_c4b301c40d7brow3_col5\" class=\"data row3 col5\" >1.03679</td> \n",
       "        <td id=\"T_a19354d2_6dc3_11e9_b750_c4b301c40d7brow3_col6\" class=\"data row3 col6\" >1.12535</td> \n",
       "        <td id=\"T_a19354d2_6dc3_11e9_b750_c4b301c40d7brow3_col7\" class=\"data row3 col7\" >0.519178</td> \n",
       "        <td id=\"T_a19354d2_6dc3_11e9_b750_c4b301c40d7brow3_col8\" class=\"data row3 col8\" >0.422932</td> \n",
       "        <td id=\"T_a19354d2_6dc3_11e9_b750_c4b301c40d7brow3_col9\" class=\"data row3 col9\" >1.44656</td> \n",
       "    </tr></tbody> \n",
       "</table> "
      ],
      "text/plain": [
       "<pandas.io.formats.style.Styler at 0x121c52438>"
      ]
     },
     "execution_count": 25,
     "metadata": {},
     "output_type": "execute_result"
    }
   ],
   "source": [
    "ref_level = 'graduate school' # user-defined reference level\n",
    "\n",
    "parity_threshold_low = 0.8    # user-defined low threshold value\n",
    "parity_threshold_hi = 1.25    # user-defined high threshold value\n",
    "\n",
    "# init frame to store disparity measures\n",
    "disp_frame = pd.DataFrame(index=ed_levels)\n",
    "\n",
    "# compare all metrics to reference level\n",
    "disp_frame = metrics_frame/metrics_frame.loc[ref_level, :]\n",
    "\n",
    "# change column names\n",
    "disp_frame.columns=[col + ' Disparity' for col in metrics_frame.columns]\n",
    "\n",
    "# small utility function to format pandas table output\n",
    "def disparate_red(val):\n",
    "    \n",
    "    color = 'blue' if (parity_threshold_low < val < parity_threshold_hi) else 'red'\n",
    "    return 'color: %s' % color \n",
    "\n",
    "# display results\n",
    "disp_frame.style.applymap(disparate_red)"
   ]
  },
  {
   "cell_type": "markdown",
   "metadata": {},
   "source": [
    "For the selected thresholds, the GBM appears to have only a few disparate values for metrics for university and high school graduates as compared to customers who attended graduate school. Those disparities appear larger in magnitude for high school graduates than for university graduates. However, the GBM has numerous disparate values for metrics of customers who have an education level of `other`. These customers have high out-of-range values for false discovery rate disparity and false negative rate disparity, and have low out-of-range disparity values for several other metrics."
   ]
  },
  {
   "cell_type": "markdown",
   "metadata": {},
   "source": [
    "#### Plot false negative rate disparity"
   ]
  },
  {
   "cell_type": "code",
   "execution_count": 26,
   "metadata": {
    "collapsed": false
   },
   "outputs": [
    {
     "data": {
      "image/png": "[encoded data removed]",
      "text/plain": [
       "<Figure size 432x288 with 1 Axes>"
      ]
     },
     "metadata": {},
     "output_type": "display_data"
    }
   ],
   "source": [
    "ax = disp_frame['False Negative Rate Disparity'].plot(kind='bar', color='b', title='False Negative Rate Disparity by Education Level')\n",
    "_ = ax.axhline(parity_threshold_low, color='r', linestyle='--')\n",
    "_ = ax.axhline(parity_threshold_hi, color='r', linestyle='--')"
   ]
  },
  {
   "cell_type": "markdown",
   "metadata": {},
   "source": [
    "#### Assess and report parity\n",
    "A binary indication of parity for metrics is reported by simply checking whether disparity values are within the user-defined thresholds. Further parity indicators are defined as combinations of other disparity values:\n",
    "\n",
    "* Type I Parity: Fairness in both FDR Parity and FPR Parity\n",
    "* Type II Parity: Fairness in both FOR Parity and FNR Parity\n",
    "* Equalized Odds: Fairness in both FPR Parity and TPR Parity\n",
    "* Supervised Fairness: Fairness in both Type I and Type II Parity\n",
    "* Overall Fairness: Fairness across all parities for all metrics"
   ]
  },
  {
   "cell_type": "code",
   "execution_count": 27,
   "metadata": {
    "collapsed": false
   },
   "outputs": [
    {
     "data": {
      "text/html": [
       "<style  type=\"text/css\" >\n",
       "    #T_a2030336_6dc3_11e9_8b0a_c4b301c40d7brow0_col0 {\n",
       "            color:  red;\n",
       "        }    #T_a2030336_6dc3_11e9_8b0a_c4b301c40d7brow0_col1 {\n",
       "            color:  red;\n",
       "        }    #T_a2030336_6dc3_11e9_8b0a_c4b301c40d7brow0_col2 {\n",
       "            color:  blue;\n",
       "        }    #T_a2030336_6dc3_11e9_8b0a_c4b301c40d7brow0_col3 {\n",
       "            color:  blue;\n",
       "        }    #T_a2030336_6dc3_11e9_8b0a_c4b301c40d7brow0_col4 {\n",
       "            color:  blue;\n",
       "        }    #T_a2030336_6dc3_11e9_8b0a_c4b301c40d7brow0_col5 {\n",
       "            color:  blue;\n",
       "        }    #T_a2030336_6dc3_11e9_8b0a_c4b301c40d7brow0_col6 {\n",
       "            color:  blue;\n",
       "        }    #T_a2030336_6dc3_11e9_8b0a_c4b301c40d7brow0_col7 {\n",
       "            color:  blue;\n",
       "        }    #T_a2030336_6dc3_11e9_8b0a_c4b301c40d7brow0_col8 {\n",
       "            color:  blue;\n",
       "        }    #T_a2030336_6dc3_11e9_8b0a_c4b301c40d7brow0_col9 {\n",
       "            color:  blue;\n",
       "        }    #T_a2030336_6dc3_11e9_8b0a_c4b301c40d7brow0_col10 {\n",
       "            color:  red;\n",
       "        }    #T_a2030336_6dc3_11e9_8b0a_c4b301c40d7brow0_col11 {\n",
       "            color:  red;\n",
       "        }    #T_a2030336_6dc3_11e9_8b0a_c4b301c40d7brow0_col12 {\n",
       "            color:  red;\n",
       "        }    #T_a2030336_6dc3_11e9_8b0a_c4b301c40d7brow0_col13 {\n",
       "            color:  red;\n",
       "        }    #T_a2030336_6dc3_11e9_8b0a_c4b301c40d7brow0_col14 {\n",
       "            color:  red;\n",
       "        }    #T_a2030336_6dc3_11e9_8b0a_c4b301c40d7brow1_col0 {\n",
       "            color:  blue;\n",
       "        }    #T_a2030336_6dc3_11e9_8b0a_c4b301c40d7brow1_col1 {\n",
       "            color:  red;\n",
       "        }    #T_a2030336_6dc3_11e9_8b0a_c4b301c40d7brow1_col2 {\n",
       "            color:  red;\n",
       "        }    #T_a2030336_6dc3_11e9_8b0a_c4b301c40d7brow1_col3 {\n",
       "            color:  blue;\n",
       "        }    #T_a2030336_6dc3_11e9_8b0a_c4b301c40d7brow1_col4 {\n",
       "            color:  blue;\n",
       "        }    #T_a2030336_6dc3_11e9_8b0a_c4b301c40d7brow1_col5 {\n",
       "            color:  blue;\n",
       "        }    #T_a2030336_6dc3_11e9_8b0a_c4b301c40d7brow1_col6 {\n",
       "            color:  blue;\n",
       "        }    #T_a2030336_6dc3_11e9_8b0a_c4b301c40d7brow1_col7 {\n",
       "            color:  blue;\n",
       "        }    #T_a2030336_6dc3_11e9_8b0a_c4b301c40d7brow1_col8 {\n",
       "            color:  blue;\n",
       "        }    #T_a2030336_6dc3_11e9_8b0a_c4b301c40d7brow1_col9 {\n",
       "            color:  blue;\n",
       "        }    #T_a2030336_6dc3_11e9_8b0a_c4b301c40d7brow1_col10 {\n",
       "            color:  red;\n",
       "        }    #T_a2030336_6dc3_11e9_8b0a_c4b301c40d7brow1_col11 {\n",
       "            color:  red;\n",
       "        }    #T_a2030336_6dc3_11e9_8b0a_c4b301c40d7brow1_col12 {\n",
       "            color:  blue;\n",
       "        }    #T_a2030336_6dc3_11e9_8b0a_c4b301c40d7brow1_col13 {\n",
       "            color:  red;\n",
       "        }    #T_a2030336_6dc3_11e9_8b0a_c4b301c40d7brow1_col14 {\n",
       "            color:  red;\n",
       "        }    #T_a2030336_6dc3_11e9_8b0a_c4b301c40d7brow2_col0 {\n",
       "            color:  blue;\n",
       "        }    #T_a2030336_6dc3_11e9_8b0a_c4b301c40d7brow2_col1 {\n",
       "            color:  blue;\n",
       "        }    #T_a2030336_6dc3_11e9_8b0a_c4b301c40d7brow2_col2 {\n",
       "            color:  blue;\n",
       "        }    #T_a2030336_6dc3_11e9_8b0a_c4b301c40d7brow2_col3 {\n",
       "            color:  blue;\n",
       "        }    #T_a2030336_6dc3_11e9_8b0a_c4b301c40d7brow2_col4 {\n",
       "            color:  blue;\n",
       "        }    #T_a2030336_6dc3_11e9_8b0a_c4b301c40d7brow2_col5 {\n",
       "            color:  blue;\n",
       "        }    #T_a2030336_6dc3_11e9_8b0a_c4b301c40d7brow2_col6 {\n",
       "            color:  blue;\n",
       "        }    #T_a2030336_6dc3_11e9_8b0a_c4b301c40d7brow2_col7 {\n",
       "            color:  blue;\n",
       "        }    #T_a2030336_6dc3_11e9_8b0a_c4b301c40d7brow2_col8 {\n",
       "            color:  blue;\n",
       "        }    #T_a2030336_6dc3_11e9_8b0a_c4b301c40d7brow2_col9 {\n",
       "            color:  blue;\n",
       "        }    #T_a2030336_6dc3_11e9_8b0a_c4b301c40d7brow2_col10 {\n",
       "            color:  blue;\n",
       "        }    #T_a2030336_6dc3_11e9_8b0a_c4b301c40d7brow2_col11 {\n",
       "            color:  blue;\n",
       "        }    #T_a2030336_6dc3_11e9_8b0a_c4b301c40d7brow2_col12 {\n",
       "            color:  blue;\n",
       "        }    #T_a2030336_6dc3_11e9_8b0a_c4b301c40d7brow2_col13 {\n",
       "            color:  blue;\n",
       "        }    #T_a2030336_6dc3_11e9_8b0a_c4b301c40d7brow2_col14 {\n",
       "            color:  blue;\n",
       "        }    #T_a2030336_6dc3_11e9_8b0a_c4b301c40d7brow3_col0 {\n",
       "            color:  red;\n",
       "        }    #T_a2030336_6dc3_11e9_8b0a_c4b301c40d7brow3_col1 {\n",
       "            color:  red;\n",
       "        }    #T_a2030336_6dc3_11e9_8b0a_c4b301c40d7brow3_col2 {\n",
       "            color:  red;\n",
       "        }    #T_a2030336_6dc3_11e9_8b0a_c4b301c40d7brow3_col3 {\n",
       "            color:  red;\n",
       "        }    #T_a2030336_6dc3_11e9_8b0a_c4b301c40d7brow3_col4 {\n",
       "            color:  blue;\n",
       "        }    #T_a2030336_6dc3_11e9_8b0a_c4b301c40d7brow3_col5 {\n",
       "            color:  blue;\n",
       "        }    #T_a2030336_6dc3_11e9_8b0a_c4b301c40d7brow3_col6 {\n",
       "            color:  blue;\n",
       "        }    #T_a2030336_6dc3_11e9_8b0a_c4b301c40d7brow3_col7 {\n",
       "            color:  red;\n",
       "        }    #T_a2030336_6dc3_11e9_8b0a_c4b301c40d7brow3_col8 {\n",
       "            color:  red;\n",
       "        }    #T_a2030336_6dc3_11e9_8b0a_c4b301c40d7brow3_col9 {\n",
       "            color:  red;\n",
       "        }    #T_a2030336_6dc3_11e9_8b0a_c4b301c40d7brow3_col10 {\n",
       "            color:  red;\n",
       "        }    #T_a2030336_6dc3_11e9_8b0a_c4b301c40d7brow3_col11 {\n",
       "            color:  red;\n",
       "        }    #T_a2030336_6dc3_11e9_8b0a_c4b301c40d7brow3_col12 {\n",
       "            color:  red;\n",
       "        }    #T_a2030336_6dc3_11e9_8b0a_c4b301c40d7brow3_col13 {\n",
       "            color:  red;\n",
       "        }    #T_a2030336_6dc3_11e9_8b0a_c4b301c40d7brow3_col14 {\n",
       "            color:  red;\n",
       "        }    #T_a2030336_6dc3_11e9_8b0a_c4b301c40d7brow4_col0 {\n",
       "            color:  red;\n",
       "        }    #T_a2030336_6dc3_11e9_8b0a_c4b301c40d7brow4_col1 {\n",
       "            color:  red;\n",
       "        }    #T_a2030336_6dc3_11e9_8b0a_c4b301c40d7brow4_col2 {\n",
       "            color:  red;\n",
       "        }    #T_a2030336_6dc3_11e9_8b0a_c4b301c40d7brow4_col3 {\n",
       "            color:  red;\n",
       "        }    #T_a2030336_6dc3_11e9_8b0a_c4b301c40d7brow4_col4 {\n",
       "            color:  blue;\n",
       "        }    #T_a2030336_6dc3_11e9_8b0a_c4b301c40d7brow4_col5 {\n",
       "            color:  blue;\n",
       "        }    #T_a2030336_6dc3_11e9_8b0a_c4b301c40d7brow4_col6 {\n",
       "            color:  blue;\n",
       "        }    #T_a2030336_6dc3_11e9_8b0a_c4b301c40d7brow4_col7 {\n",
       "            color:  red;\n",
       "        }    #T_a2030336_6dc3_11e9_8b0a_c4b301c40d7brow4_col8 {\n",
       "            color:  red;\n",
       "        }    #T_a2030336_6dc3_11e9_8b0a_c4b301c40d7brow4_col9 {\n",
       "            color:  red;\n",
       "        }    #T_a2030336_6dc3_11e9_8b0a_c4b301c40d7brow4_col10 {\n",
       "            color:  red;\n",
       "        }    #T_a2030336_6dc3_11e9_8b0a_c4b301c40d7brow4_col11 {\n",
       "            color:  red;\n",
       "        }    #T_a2030336_6dc3_11e9_8b0a_c4b301c40d7brow4_col12 {\n",
       "            color:  red;\n",
       "        }    #T_a2030336_6dc3_11e9_8b0a_c4b301c40d7brow4_col13 {\n",
       "            color:  red;\n",
       "        }    #T_a2030336_6dc3_11e9_8b0a_c4b301c40d7brow4_col14 {\n",
       "            color:  red;\n",
       "        }</style>  \n",
       "<table id=\"T_a2030336_6dc3_11e9_8b0a_c4b301c40d7b\" > \n",
       "<thead>    <tr> \n",
       "        <th class=\"blank level0\" ></th> \n",
       "        <th class=\"col_heading level0 col0\" >False Positive Rate Parity</th> \n",
       "        <th class=\"col_heading level0 col1\" >False Omissions Rate Parity</th> \n",
       "        <th class=\"col_heading level0 col2\" >False Discovery Rate Parity</th> \n",
       "        <th class=\"col_heading level0 col3\" >Precision Parity</th> \n",
       "        <th class=\"col_heading level0 col4\" >Accuracy Parity</th> \n",
       "        <th class=\"col_heading level0 col5\" >Specificity Parity</th> \n",
       "        <th class=\"col_heading level0 col6\" >Negative Predicted Value Parity</th> \n",
       "        <th class=\"col_heading level0 col7\" >True Positive Rate Parity</th> \n",
       "        <th class=\"col_heading level0 col8\" >Adverse Impact Parity</th> \n",
       "        <th class=\"col_heading level0 col9\" >False Negative Rate Parity</th> \n",
       "        <th class=\"col_heading level0 col10\" >Type I Parity</th> \n",
       "        <th class=\"col_heading level0 col11\" >Type II Parity</th> \n",
       "        <th class=\"col_heading level0 col12\" >Equalized Odds</th> \n",
       "        <th class=\"col_heading level0 col13\" >Supervised Fairness</th> \n",
       "        <th class=\"col_heading level0 col14\" >Overall Fairness</th> \n",
       "    </tr></thead> \n",
       "<tbody>    <tr> \n",
       "        <th id=\"T_a2030336_6dc3_11e9_8b0a_c4b301c40d7blevel0_row0\" class=\"row_heading level0 row0\" >university</th> \n",
       "        <td id=\"T_a2030336_6dc3_11e9_8b0a_c4b301c40d7brow0_col0\" class=\"data row0 col0\" >False</td> \n",
       "        <td id=\"T_a2030336_6dc3_11e9_8b0a_c4b301c40d7brow0_col1\" class=\"data row0 col1\" >False</td> \n",
       "        <td id=\"T_a2030336_6dc3_11e9_8b0a_c4b301c40d7brow0_col2\" class=\"data row0 col2\" >True</td> \n",
       "        <td id=\"T_a2030336_6dc3_11e9_8b0a_c4b301c40d7brow0_col3\" class=\"data row0 col3\" >True</td> \n",
       "        <td id=\"T_a2030336_6dc3_11e9_8b0a_c4b301c40d7brow0_col4\" class=\"data row0 col4\" >True</td> \n",
       "        <td id=\"T_a2030336_6dc3_11e9_8b0a_c4b301c40d7brow0_col5\" class=\"data row0 col5\" >True</td> \n",
       "        <td id=\"T_a2030336_6dc3_11e9_8b0a_c4b301c40d7brow0_col6\" class=\"data row0 col6\" >True</td> \n",
       "        <td id=\"T_a2030336_6dc3_11e9_8b0a_c4b301c40d7brow0_col7\" class=\"data row0 col7\" >True</td> \n",
       "        <td id=\"T_a2030336_6dc3_11e9_8b0a_c4b301c40d7brow0_col8\" class=\"data row0 col8\" >True</td> \n",
       "        <td id=\"T_a2030336_6dc3_11e9_8b0a_c4b301c40d7brow0_col9\" class=\"data row0 col9\" >True</td> \n",
       "        <td id=\"T_a2030336_6dc3_11e9_8b0a_c4b301c40d7brow0_col10\" class=\"data row0 col10\" >False</td> \n",
       "        <td id=\"T_a2030336_6dc3_11e9_8b0a_c4b301c40d7brow0_col11\" class=\"data row0 col11\" >False</td> \n",
       "        <td id=\"T_a2030336_6dc3_11e9_8b0a_c4b301c40d7brow0_col12\" class=\"data row0 col12\" >False</td> \n",
       "        <td id=\"T_a2030336_6dc3_11e9_8b0a_c4b301c40d7brow0_col13\" class=\"data row0 col13\" >False</td> \n",
       "        <td id=\"T_a2030336_6dc3_11e9_8b0a_c4b301c40d7brow0_col14\" class=\"data row0 col14\" >False</td> \n",
       "    </tr>    <tr> \n",
       "        <th id=\"T_a2030336_6dc3_11e9_8b0a_c4b301c40d7blevel0_row1\" class=\"row_heading level0 row1\" >high school</th> \n",
       "        <td id=\"T_a2030336_6dc3_11e9_8b0a_c4b301c40d7brow1_col0\" class=\"data row1 col0\" >True</td> \n",
       "        <td id=\"T_a2030336_6dc3_11e9_8b0a_c4b301c40d7brow1_col1\" class=\"data row1 col1\" >False</td> \n",
       "        <td id=\"T_a2030336_6dc3_11e9_8b0a_c4b301c40d7brow1_col2\" class=\"data row1 col2\" >False</td> \n",
       "        <td id=\"T_a2030336_6dc3_11e9_8b0a_c4b301c40d7brow1_col3\" class=\"data row1 col3\" >True</td> \n",
       "        <td id=\"T_a2030336_6dc3_11e9_8b0a_c4b301c40d7brow1_col4\" class=\"data row1 col4\" >True</td> \n",
       "        <td id=\"T_a2030336_6dc3_11e9_8b0a_c4b301c40d7brow1_col5\" class=\"data row1 col5\" >True</td> \n",
       "        <td id=\"T_a2030336_6dc3_11e9_8b0a_c4b301c40d7brow1_col6\" class=\"data row1 col6\" >True</td> \n",
       "        <td id=\"T_a2030336_6dc3_11e9_8b0a_c4b301c40d7brow1_col7\" class=\"data row1 col7\" >True</td> \n",
       "        <td id=\"T_a2030336_6dc3_11e9_8b0a_c4b301c40d7brow1_col8\" class=\"data row1 col8\" >True</td> \n",
       "        <td id=\"T_a2030336_6dc3_11e9_8b0a_c4b301c40d7brow1_col9\" class=\"data row1 col9\" >True</td> \n",
       "        <td id=\"T_a2030336_6dc3_11e9_8b0a_c4b301c40d7brow1_col10\" class=\"data row1 col10\" >False</td> \n",
       "        <td id=\"T_a2030336_6dc3_11e9_8b0a_c4b301c40d7brow1_col11\" class=\"data row1 col11\" >False</td> \n",
       "        <td id=\"T_a2030336_6dc3_11e9_8b0a_c4b301c40d7brow1_col12\" class=\"data row1 col12\" >True</td> \n",
       "        <td id=\"T_a2030336_6dc3_11e9_8b0a_c4b301c40d7brow1_col13\" class=\"data row1 col13\" >False</td> \n",
       "        <td id=\"T_a2030336_6dc3_11e9_8b0a_c4b301c40d7brow1_col14\" class=\"data row1 col14\" >False</td> \n",
       "    </tr>    <tr> \n",
       "        <th id=\"T_a2030336_6dc3_11e9_8b0a_c4b301c40d7blevel0_row2\" class=\"row_heading level0 row2\" >graduate school</th> \n",
       "        <td id=\"T_a2030336_6dc3_11e9_8b0a_c4b301c40d7brow2_col0\" class=\"data row2 col0\" >True</td> \n",
       "        <td id=\"T_a2030336_6dc3_11e9_8b0a_c4b301c40d7brow2_col1\" class=\"data row2 col1\" >True</td> \n",
       "        <td id=\"T_a2030336_6dc3_11e9_8b0a_c4b301c40d7brow2_col2\" class=\"data row2 col2\" >True</td> \n",
       "        <td id=\"T_a2030336_6dc3_11e9_8b0a_c4b301c40d7brow2_col3\" class=\"data row2 col3\" >True</td> \n",
       "        <td id=\"T_a2030336_6dc3_11e9_8b0a_c4b301c40d7brow2_col4\" class=\"data row2 col4\" >True</td> \n",
       "        <td id=\"T_a2030336_6dc3_11e9_8b0a_c4b301c40d7brow2_col5\" class=\"data row2 col5\" >True</td> \n",
       "        <td id=\"T_a2030336_6dc3_11e9_8b0a_c4b301c40d7brow2_col6\" class=\"data row2 col6\" >True</td> \n",
       "        <td id=\"T_a2030336_6dc3_11e9_8b0a_c4b301c40d7brow2_col7\" class=\"data row2 col7\" >True</td> \n",
       "        <td id=\"T_a2030336_6dc3_11e9_8b0a_c4b301c40d7brow2_col8\" class=\"data row2 col8\" >True</td> \n",
       "        <td id=\"T_a2030336_6dc3_11e9_8b0a_c4b301c40d7brow2_col9\" class=\"data row2 col9\" >True</td> \n",
       "        <td id=\"T_a2030336_6dc3_11e9_8b0a_c4b301c40d7brow2_col10\" class=\"data row2 col10\" >True</td> \n",
       "        <td id=\"T_a2030336_6dc3_11e9_8b0a_c4b301c40d7brow2_col11\" class=\"data row2 col11\" >True</td> \n",
       "        <td id=\"T_a2030336_6dc3_11e9_8b0a_c4b301c40d7brow2_col12\" class=\"data row2 col12\" >True</td> \n",
       "        <td id=\"T_a2030336_6dc3_11e9_8b0a_c4b301c40d7brow2_col13\" class=\"data row2 col13\" >True</td> \n",
       "        <td id=\"T_a2030336_6dc3_11e9_8b0a_c4b301c40d7brow2_col14\" class=\"data row2 col14\" >True</td> \n",
       "    </tr>    <tr> \n",
       "        <th id=\"T_a2030336_6dc3_11e9_8b0a_c4b301c40d7blevel0_row3\" class=\"row_heading level0 row3\" >other</th> \n",
       "        <td id=\"T_a2030336_6dc3_11e9_8b0a_c4b301c40d7brow3_col0\" class=\"data row3 col0\" >False</td> \n",
       "        <td id=\"T_a2030336_6dc3_11e9_8b0a_c4b301c40d7brow3_col1\" class=\"data row3 col1\" >False</td> \n",
       "        <td id=\"T_a2030336_6dc3_11e9_8b0a_c4b301c40d7brow3_col2\" class=\"data row3 col2\" >False</td> \n",
       "        <td id=\"T_a2030336_6dc3_11e9_8b0a_c4b301c40d7brow3_col3\" class=\"data row3 col3\" >False</td> \n",
       "        <td id=\"T_a2030336_6dc3_11e9_8b0a_c4b301c40d7brow3_col4\" class=\"data row3 col4\" >True</td> \n",
       "        <td id=\"T_a2030336_6dc3_11e9_8b0a_c4b301c40d7brow3_col5\" class=\"data row3 col5\" >True</td> \n",
       "        <td id=\"T_a2030336_6dc3_11e9_8b0a_c4b301c40d7brow3_col6\" class=\"data row3 col6\" >True</td> \n",
       "        <td id=\"T_a2030336_6dc3_11e9_8b0a_c4b301c40d7brow3_col7\" class=\"data row3 col7\" >False</td> \n",
       "        <td id=\"T_a2030336_6dc3_11e9_8b0a_c4b301c40d7brow3_col8\" class=\"data row3 col8\" >False</td> \n",
       "        <td id=\"T_a2030336_6dc3_11e9_8b0a_c4b301c40d7brow3_col9\" class=\"data row3 col9\" >False</td> \n",
       "        <td id=\"T_a2030336_6dc3_11e9_8b0a_c4b301c40d7brow3_col10\" class=\"data row3 col10\" >False</td> \n",
       "        <td id=\"T_a2030336_6dc3_11e9_8b0a_c4b301c40d7brow3_col11\" class=\"data row3 col11\" >False</td> \n",
       "        <td id=\"T_a2030336_6dc3_11e9_8b0a_c4b301c40d7brow3_col12\" class=\"data row3 col12\" >False</td> \n",
       "        <td id=\"T_a2030336_6dc3_11e9_8b0a_c4b301c40d7brow3_col13\" class=\"data row3 col13\" >False</td> \n",
       "        <td id=\"T_a2030336_6dc3_11e9_8b0a_c4b301c40d7brow3_col14\" class=\"data row3 col14\" >False</td> \n",
       "    </tr>    <tr> \n",
       "        <th id=\"T_a2030336_6dc3_11e9_8b0a_c4b301c40d7blevel0_row4\" class=\"row_heading level0 row4\" >all</th> \n",
       "        <td id=\"T_a2030336_6dc3_11e9_8b0a_c4b301c40d7brow4_col0\" class=\"data row4 col0\" >False</td> \n",
       "        <td id=\"T_a2030336_6dc3_11e9_8b0a_c4b301c40d7brow4_col1\" class=\"data row4 col1\" >False</td> \n",
       "        <td id=\"T_a2030336_6dc3_11e9_8b0a_c4b301c40d7brow4_col2\" class=\"data row4 col2\" >False</td> \n",
       "        <td id=\"T_a2030336_6dc3_11e9_8b0a_c4b301c40d7brow4_col3\" class=\"data row4 col3\" >False</td> \n",
       "        <td id=\"T_a2030336_6dc3_11e9_8b0a_c4b301c40d7brow4_col4\" class=\"data row4 col4\" >True</td> \n",
       "        <td id=\"T_a2030336_6dc3_11e9_8b0a_c4b301c40d7brow4_col5\" class=\"data row4 col5\" >True</td> \n",
       "        <td id=\"T_a2030336_6dc3_11e9_8b0a_c4b301c40d7brow4_col6\" class=\"data row4 col6\" >True</td> \n",
       "        <td id=\"T_a2030336_6dc3_11e9_8b0a_c4b301c40d7brow4_col7\" class=\"data row4 col7\" >False</td> \n",
       "        <td id=\"T_a2030336_6dc3_11e9_8b0a_c4b301c40d7brow4_col8\" class=\"data row4 col8\" >False</td> \n",
       "        <td id=\"T_a2030336_6dc3_11e9_8b0a_c4b301c40d7brow4_col9\" class=\"data row4 col9\" >False</td> \n",
       "        <td id=\"T_a2030336_6dc3_11e9_8b0a_c4b301c40d7brow4_col10\" class=\"data row4 col10\" >False</td> \n",
       "        <td id=\"T_a2030336_6dc3_11e9_8b0a_c4b301c40d7brow4_col11\" class=\"data row4 col11\" >False</td> \n",
       "        <td id=\"T_a2030336_6dc3_11e9_8b0a_c4b301c40d7brow4_col12\" class=\"data row4 col12\" >False</td> \n",
       "        <td id=\"T_a2030336_6dc3_11e9_8b0a_c4b301c40d7brow4_col13\" class=\"data row4 col13\" >False</td> \n",
       "        <td id=\"T_a2030336_6dc3_11e9_8b0a_c4b301c40d7brow4_col14\" class=\"data row4 col14\" >False</td> \n",
       "    </tr></tbody> \n",
       "</table> "
      ],
      "text/plain": [
       "<pandas.io.formats.style.Styler at 0x122742f98>"
      ]
     },
     "execution_count": 27,
     "metadata": {},
     "output_type": "execute_result"
    }
   ],
   "source": [
    "# parity checks\n",
    "# low_threshold (0.8) < *_metric/white_metric < (high_threshold) 1.25 => parity, else disparity \n",
    "\n",
    "# init frame for parity\n",
    "par_frame = pd.DataFrame(index=ed_levels, \n",
    "                         columns=[col + ' Parity' for col in metrics_frame.columns])\n",
    "# nested loop through: \n",
    "# - races\n",
    "# - disparity metrics\n",
    "for i, _ in enumerate(ed_levels):\n",
    "    for j, _ in enumerate(par_frame.columns):\n",
    "        par_frame.iat[i, j] = (parity_threshold_low < disp_frame.iat[i, j] < parity_threshold_hi)\n",
    "\n",
    "# add overall parity checks\n",
    "# Type I Parity: Fairness in both FDR Parity and FPR Parity\n",
    "# Type II Parity: Fairness in both FOR Parity and FNR Parity\n",
    "# Equalized Odds: Fairness in both FPR Parity and TPR Parity\n",
    "# Supervised Fairness: Fairness in both Type I and Type II Parity\n",
    "# Overall Fairness: Fairness across all parities for all metrics\n",
    "par_frame['Type I Parity'] = (par_frame['False Discovery Rate Parity']) & (par_frame['False Positive Rate Parity'])\n",
    "par_frame['Type II Parity'] = (par_frame['False Omissions Rate Parity']) & (par_frame['False Negative Rate Parity'])\n",
    "par_frame['Equalized Odds'] = (par_frame['False Positive Rate Parity']) & (par_frame['True Positive Rate Parity'])\n",
    "par_frame['Supervised Fairness'] = (par_frame['Type I Parity']) & (par_frame['Type II Parity'])\n",
    "par_frame['Overall Fairness'] = par_frame.all(axis='columns')\n",
    "par_frame.loc['all', :] = par_frame.all(axis='index')\n",
    "    \n",
    "# small utility function to format pandas table output    \n",
    "def color_false_red(val):\n",
    "\n",
    "    color = 'red' if not val else 'blue'\n",
    "    return 'color: %s' % color \n",
    "    \n",
    "par_frame.style.applymap(color_false_red)"
   ]
  },
  {
   "cell_type": "markdown",
   "metadata": {},
   "source": [
    "In general the GBM appears to have accuracy, negative predicted value, and specificity parity, but likely has a disparate impact across education levels for all other metrics. It fails to meet the criteria of overall fairness. To address such disparate impact users could tune the GBM cutoff or regularization, could try new methods for reweighing data prior to model training or try new modeling methods specifically designed for fairness. Simply dropping the variable `EDUCATION` is likely an inappropriate solution. In nonlinear models, different variables are combined by the model to represent strong signals. If a variable is important in a dataset, model, or problem domain it's likely that a nonlinear model will find combinations of other variables to act as proxies for the problematic variable -- potentially even different combinations for different rows of data!. So by simply dropping the variable from the model, you will likely not solve the disparate impact problem, but instead just make it harder to diagnose."
   ]
  },
  {
   "cell_type": "markdown",
   "metadata": {},
   "source": [
    "#### Shutdown H2O\n",
    "After using h2o, it's typically best to shut it down. However, before doing so, users should ensure that they have saved any h2o data structures, such as models and H2OFrames, or scoring artifacts, such as POJOs and MOJOs."
   ]
  },
  {
   "cell_type": "code",
   "execution_count": 28,
   "metadata": {
    "collapsed": false
   },
   "outputs": [
    {
     "name": "stdout",
     "output_type": "stream",
     "text": [
      "Are you sure you want to shutdown the H2O instance running at http://127.0.0.1:54321 (Y/N)? y\n",
      "H2O session _sid_b350 closed.\n"
     ]
    }
   ],
   "source": [
    "# be careful, this can erase your work!\n",
    "h2o.cluster().shutdown(prompt=True)"
   ]
  },
  {
   "cell_type": "markdown",
   "metadata": {},
   "source": [
    "#### Conclusion"
   ]
  },
  {
   "cell_type": "markdown",
   "metadata": {},
   "source": [
    "This notebook outlines a basic approach to DIA. In a complex, real-world machine learning project the hard-to-define phenomenas of sociological bias and unfairness can materialize in many ways and from many different sources. Although far from a flawless technique, the beauty of DIA is it is straightforward to implement, functions in a model-agnostic fashion on known labels and model predictions, and is applied in complex real-world fair lending situations, so it can probably be applied to your model too!\n",
    "\n",
    "Why risk being called out in the media for training an unfair model? Or why not investigate the monetary opportunity costs of type I errors and potential losses from type II errors? Why not do the right thing and investigate how your model treats people?"
   ]
  }
 ],
 "metadata": {
  "anaconda-cloud": {},
  "kernelspec": {
   "display_name": "Python [default]",
   "language": "python",
   "name": "python3"
  },
  "language_info": {
   "codemirror_mode": {
    "name": "ipython",
    "version": 3
   },
   "file_extension": ".py",
   "mimetype": "text/x-python",
   "name": "python",
   "nbconvert_exporter": "python",
   "pygments_lexer": "ipython3",
   "version": "3.5.2"
  }
 },
 "nbformat": 4,
 "nbformat_minor": 2
}
